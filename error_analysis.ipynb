{
 "cells": [
  {
   "cell_type": "markdown",
   "metadata": {},
   "source": [
    "# Importing libraries"
   ]
  },
  {
   "cell_type": "code",
   "execution_count": 88,
   "metadata": {},
   "outputs": [],
   "source": [
    "import pickle\n",
    "import matplotlib.pyplot as plt\n",
    "import pandas as pd\n",
    "import numpy as np\n",
    "import seaborn as sn\n",
    "import ast\n",
    "import spacy\n",
    "import string\n",
    "import re\n",
    "import nltk\n",
    "import gensim\n",
    "from sklearn import svm\n",
    "from sklearn.tree import DecisionTreeClassifier\n",
    "from sklearn.metrics import confusion_matrix\n",
    "from sklearn.metrics import accuracy_score\n",
    "from sklearn.neural_network import MLPClassifier"
   ]
  },
  {
   "cell_type": "markdown",
   "metadata": {},
   "source": [
    "# Importing selected models"
   ]
  },
  {
   "cell_type": "code",
   "execution_count": 458,
   "metadata": {},
   "outputs": [],
   "source": [
    "fullname = \"selected_models/06.02.2021_21.34/models.pickle\"\n",
    "file = open(fullname, \"rb\")\n",
    "models = pickle.load(file)"
   ]
  },
  {
   "cell_type": "code",
   "execution_count": 459,
   "metadata": {},
   "outputs": [
    {
     "data": {
      "text/plain": [
       "{0: array([0., 0., 0., 0., 0., 0., 0., 0., 0., 0., 0., 0., 0., 0., 0., 0., 0.,\n",
       "        0., 0., 0., 0., 0., 0., 0., 0., 0., 0., 0., 0., 0., 0., 0., 0., 0.,\n",
       "        0., 0., 0., 0., 0., 0., 0., 0., 0., 0., 0., 0., 0., 0., 0., 0., 0.,\n",
       "        0., 0., 0., 0., 0., 0., 0., 0., 0., 0., 0., 0., 0., 0., 0., 0., 0.,\n",
       "        0., 0., 0., 0., 0., 0., 0., 0., 0., 0., 0., 0., 0., 0., 0., 0., 0.,\n",
       "        0., 0., 0., 0., 0., 0., 0., 0., 0., 0., 0., 0., 0., 0., 0.]),\n",
       " 1: array([0., 0., 0., 0., 0., 0., 0., 0., 0., 0., 0., 0., 0., 0., 0., 0., 0.,\n",
       "        0., 0., 0., 0., 0., 0., 0., 0., 0., 0., 0., 0., 0., 0., 0., 0., 0.,\n",
       "        0., 0., 0., 0., 0., 0., 0., 0., 0., 0., 0., 0., 0., 0., 0., 0., 0.,\n",
       "        0., 0., 0., 0., 0., 0., 0., 0., 0., 0., 0., 0., 0., 0., 0., 0., 0.,\n",
       "        0., 0., 0., 0., 0., 0., 0., 0., 0., 0., 0., 0., 0., 0., 0., 0., 0.,\n",
       "        0., 0., 0., 0., 0., 0., 0., 0., 0., 0., 0., 0., 0., 0., 0.]),\n",
       " 2: array([0., 0., 0., 0., 0., 0., 0., 0., 0., 0., 0., 0., 0., 0., 0., 0., 0.,\n",
       "        0., 0., 0., 0., 0., 0., 0., 0., 0., 0., 0., 0., 0., 0., 0., 0., 0.,\n",
       "        0., 0., 0., 0., 0., 0., 0., 0., 0., 0., 0., 0., 0., 0., 0., 0., 0.,\n",
       "        0., 0., 0., 0., 0., 0., 0., 0., 0., 0., 0., 0., 0., 0., 0., 0., 0.,\n",
       "        0., 0., 0., 0., 0., 0., 0., 0., 0., 0., 0., 0., 0., 0., 0., 0., 0.,\n",
       "        0., 0., 0., 0., 0., 0., 0., 0., 0., 0., 0., 0., 0., 0., 0.]),\n",
       " 3: array([0., 0., 0., 0., 0., 0., 0., 0., 0., 0., 0., 0., 0., 0., 0., 0., 0.,\n",
       "        0., 0., 0., 0., 0., 0., 0., 0., 0., 0., 0., 0., 0., 0., 0., 0., 0.,\n",
       "        0., 0., 0., 0., 0., 0., 0., 0., 0., 0., 0., 0., 0., 0., 0., 0., 0.,\n",
       "        0., 0., 0., 0., 0., 0., 0., 0., 0., 0., 0., 0., 0., 0., 0., 0., 0.,\n",
       "        0., 0., 0., 0., 0., 0., 0., 0., 0., 0., 0., 0., 0., 0., 0., 0., 0.,\n",
       "        0., 0., 0., 0., 0., 0., 0., 0., 0., 0., 0., 0., 0., 0., 0.]),\n",
       " 4: array([0., 0., 0., 0., 0., 0., 0., 0., 0., 0., 0., 0., 0., 0., 0., 0., 0.,\n",
       "        0., 0., 0., 0., 0., 0., 0., 0., 0., 0., 0., 0., 0., 0., 0., 0., 0.,\n",
       "        0., 0., 0., 0., 0., 0., 0., 0., 0., 0., 0., 0., 0., 0., 0., 0., 0.,\n",
       "        0., 0., 0., 0., 0., 0., 0., 0., 0., 0., 0., 0., 0., 0., 0., 0., 0.,\n",
       "        0., 0., 0., 0., 0., 0., 0., 0., 0., 0., 0., 0., 0., 0., 0., 0., 0.,\n",
       "        0., 0., 0., 0., 0., 0., 0., 0., 0., 0., 0., 0., 0., 0., 0.])}"
      ]
     },
     "execution_count": 459,
     "metadata": {},
     "output_type": "execute_result"
    }
   ],
   "source": [
    "models.all_memberships"
   ]
  },
  {
   "cell_type": "code",
   "execution_count": 460,
   "metadata": {},
   "outputs": [
    {
     "data": {
      "text/plain": [
       "{0: array([0, 0, 0, 0, 0, 1, 0, 0, 0, 0, 0, 0, 0, 0, 1, 1, 0, 0, 0, 0, 1, 0,\n",
       "        0, 0, 0, 0, 0, 0, 0, 0, 0, 0, 0, 1, 0, 0, 0, 1, 0, 1, 0, 0, 0, 1,\n",
       "        0, 0, 0, 1, 1, 0, 0, 0, 0, 0, 1, 0, 0, 0, 0, 0, 0, 0, 1, 1, 0, 0,\n",
       "        0, 0, 1, 1, 0, 0, 0, 1, 0, 0, 1, 0, 0, 0, 1, 0, 0, 0, 1, 1, 0, 0,\n",
       "        0, 0, 1, 0, 0, 0, 0, 1, 0, 0, 1, 1]),\n",
       " 1: array([0, 0, 0, 0, 0, 0, 0, 0, 0, 1, 1, 0, 1, 0, 0, 1, 1, 0, 0, 0, 0, 0,\n",
       "        0, 0, 1, 0, 1, 0, 0, 0, 0, 0, 0, 0, 1, 0, 1, 0, 0, 0, 0, 0, 0, 1,\n",
       "        0, 0, 0, 0, 0, 0, 1, 0, 1, 0, 0, 0, 1, 0, 0, 0, 0, 0, 1, 1, 0, 0,\n",
       "        0, 0, 0, 0, 0, 0, 0, 0, 0, 0, 0, 0, 0, 0, 0, 1, 0, 0, 1, 0, 0, 0,\n",
       "        0, 0, 0, 0, 0, 1, 1, 1, 1, 1, 1, 1]),\n",
       " 2: array([0, 0, 0, 0, 0, 0, 0, 0, 0, 0, 0, 0, 0, 0, 0, 0, 0, 0, 0, 0, 0, 0,\n",
       "        0, 0, 0, 0, 0, 0, 1, 1, 0, 0, 0, 0, 0, 1, 1, 0, 0, 0, 0, 0, 0, 0,\n",
       "        0, 0, 0, 0, 0, 0, 0, 1, 0, 0, 0, 0, 0, 1, 1, 0, 0, 0, 0, 0, 1, 0,\n",
       "        1, 0, 0, 1, 0, 0, 0, 0, 0, 0, 0, 0, 0, 0, 0, 0, 0, 0, 0, 0, 1, 1,\n",
       "        1, 1, 1, 1, 1, 1, 1, 1, 1, 1, 1, 1]),\n",
       " 3: array([0, 0, 0, 0, 0, 0, 0, 0, 0, 0, 0, 0, 0, 0, 0, 0, 0, 0, 0, 0, 0, 0,\n",
       "        0, 0, 0, 0, 0, 0, 0, 0, 0, 0, 0, 0, 0, 0, 0, 0, 0, 0, 0, 0, 1, 1,\n",
       "        0, 1, 0, 1, 0, 0, 0, 0, 1, 0, 0, 0, 0, 0, 0, 0, 1, 0, 0, 0, 1, 0,\n",
       "        0, 0, 0, 0, 0, 0, 0, 1, 1, 1, 0, 1, 0, 0, 0, 0, 0, 0, 0, 0, 0, 1,\n",
       "        1, 1, 1, 1, 1, 1, 1, 1, 1, 1, 1, 1]),\n",
       " 4: array([0, 0, 0, 0, 0, 0, 0, 0, 0, 0, 0, 0, 0, 0, 0, 0, 0, 0, 0, 0, 0, 0,\n",
       "        0, 1, 0, 0, 0, 1, 0, 0, 0, 1, 1, 0, 0, 0, 0, 0, 0, 0, 0, 0, 0, 1,\n",
       "        1, 0, 0, 0, 1, 0, 1, 1, 0, 0, 0, 0, 0, 1, 1, 0, 1, 1, 0, 1, 1, 0,\n",
       "        0, 0, 0, 0, 0, 0, 0, 0, 0, 0, 0, 0, 0, 0, 1, 1, 0, 0, 1, 0, 0, 1,\n",
       "        1, 0, 0, 1, 0, 1, 0, 1, 0, 0, 1, 0])}"
      ]
     },
     "execution_count": 460,
     "metadata": {},
     "output_type": "execute_result"
    }
   ],
   "source": [
    "models.all_labels"
   ]
  },
  {
   "cell_type": "code",
   "execution_count": 461,
   "metadata": {},
   "outputs": [
    {
     "data": {
      "text/plain": [
       "{'x train 0': array([[ 4.014912  ,  2.0261257 , -4.192399  , ..., -0.79175526,\n",
       "         -1.6366007 , -0.84516424],\n",
       "        [ 5.0867157 ,  3.2544663 , -4.3758097 , ...,  0.45218378,\n",
       "         -1.0958344 , -2.558822  ],\n",
       "        [ 3.4330046 ,  1.4652389 , -4.4064946 , ..., -0.38927388,\n",
       "         -1.9812948 , -1.5923504 ],\n",
       "        ...,\n",
       "        [ 5.0545683 ,  3.3746178 , -4.452071  , ..., -0.7996819 ,\n",
       "         -1.7689104 , -2.6761549 ],\n",
       "        [ 4.2167726 ,  3.1746116 , -5.0935287 , ..., -0.32667318,\n",
       "         -1.7428653 , -2.184502  ],\n",
       "        [ 4.119267  ,  3.056037  , -3.6739433 , ..., -1.6432753 ,\n",
       "         -2.1998851 , -2.025814  ]]),\n",
       " 'y train 0': array([0, 0, 0, 0, 0, 0, 0, 0, 0, 1, 1, 0, 1, 0, 0, 1, 1, 0, 0, 0, 0, 0,\n",
       "        0, 0, 1, 0, 1, 0, 0, 0, 0, 0, 0, 0, 1, 0, 1, 0, 0, 0, 0, 0, 0, 1,\n",
       "        0, 0, 0, 0, 0, 0, 1, 0, 1, 0, 0, 0, 1, 0, 0, 0, 0, 0, 1, 1, 0, 0,\n",
       "        0, 0, 0, 0, 0, 0, 0, 0, 0, 0, 0, 0, 0, 0, 0, 1, 0, 0, 1, 0, 0, 0,\n",
       "        0, 0, 0, 0, 0, 0, 0, 1, 0, 0, 0, 0, 0, 0, 0, 1, 0, 0, 0, 1, 0, 0,\n",
       "        0, 0, 0, 0, 0, 0, 1, 0, 0, 0, 0, 1, 1, 1, 0, 0, 0, 0, 1, 1, 0, 0,\n",
       "        0, 0, 0, 1, 1, 0, 0, 0, 0, 0, 0, 0, 0, 0, 0, 0, 0, 0, 0, 1, 0, 0,\n",
       "        0, 0, 0, 1, 1, 0, 0, 0, 0, 0, 1, 0, 1, 0, 0, 1, 0, 0, 0, 0, 0, 0,\n",
       "        0, 0, 0, 0, 0, 0, 0, 0, 0, 0, 0, 0, 0, 0, 0, 0, 0, 1, 0, 0, 1, 0,\n",
       "        0, 0, 0, 0, 0, 1, 0, 1, 0, 0, 0, 0, 0, 0, 1, 1, 0, 0, 0, 1, 0, 0,\n",
       "        0, 0, 0, 1, 1, 0, 0, 0, 1, 1, 1, 0, 0, 0, 1, 0, 0, 0, 0, 0, 0, 1,\n",
       "        1, 1, 0, 1, 0, 1, 0, 0, 0, 0, 1, 0, 0, 0, 0, 0, 0, 0, 1, 0, 0, 0,\n",
       "        1, 0, 0, 0, 0, 0, 0, 0, 0, 1, 1, 1, 0, 1, 0, 0, 0, 0, 0, 0, 0, 0,\n",
       "        0, 0, 0, 0, 0, 1, 1, 0, 0, 1, 1, 0, 0, 1, 0, 0, 0, 0, 1, 1, 0, 1,\n",
       "        1, 0, 0, 0, 1, 0, 0, 0, 0, 0, 1, 1, 0, 1, 0, 1, 0, 0, 0, 1, 0, 0,\n",
       "        0, 1, 1, 0, 0, 0, 0, 0, 0, 0, 0, 0, 0, 1, 1, 0, 0, 0, 1, 0, 1, 1,\n",
       "        0, 0, 0, 0, 0, 1, 1, 0, 1, 1, 0, 1, 1, 0, 0, 0, 0, 0, 0, 0, 0, 0,\n",
       "        0, 0, 0, 0, 0, 0, 1, 1, 0, 0, 1, 0, 0, 1, 1, 0, 0, 1, 0, 1, 0, 1,\n",
       "        0, 0, 1, 0]),\n",
       " 'x test 0': array([[ 2.8381774 ,  2.161265  , -4.295609  , ..., -1.509673  ,\n",
       "         -1.8955852 , -1.6098999 ],\n",
       "        [ 3.4760325 ,  1.7132928 , -5.1875186 , ..., -0.50057125,\n",
       "         -0.48905495, -1.5427548 ],\n",
       "        [ 4.0198374 ,  2.5259695 , -4.627111  , ..., -0.32798684,\n",
       "         -0.30988783, -1.9279054 ],\n",
       "        ...,\n",
       "        [ 4.7631836 ,  1.8242795 , -4.9940405 , ..., -1.0798526 ,\n",
       "         -0.13208665, -1.2206281 ],\n",
       "        [ 4.0705767 ,  1.7662656 , -4.59564   , ...,  0.37784052,\n",
       "         -1.4821593 , -2.3264527 ],\n",
       "        [ 3.990007  ,  2.977125  , -5.11659   , ..., -0.65928257,\n",
       "         -1.7333449 , -2.4253895 ]]),\n",
       " 'y test 0': array([0, 0, 0, 0, 0, 1, 0, 0, 0, 0, 0, 0, 0, 0, 1, 1, 0, 0, 0, 0, 1, 0,\n",
       "        0, 0, 0, 0, 0, 0, 0, 0, 0, 0, 0, 1, 0, 0, 0, 1, 0, 1, 0, 0, 0, 1,\n",
       "        0, 0, 0, 1, 1, 0, 0, 0, 0, 0, 1, 0, 0, 0, 0, 0, 0, 0, 1, 1, 0, 0,\n",
       "        0, 0, 1, 1, 0, 0, 0, 1, 0, 0, 1, 0, 0, 0, 1, 0, 0, 0, 1, 1, 0, 0,\n",
       "        0, 0, 1, 0, 0, 0, 0, 1, 0, 0, 1, 1]),\n",
       " 'x train 1': array([[ 2.8381774 ,  2.161265  , -4.295609  , ..., -1.509673  ,\n",
       "         -1.8955852 , -1.6098999 ],\n",
       "        [ 3.4760325 ,  1.7132928 , -5.1875186 , ..., -0.50057125,\n",
       "         -0.48905495, -1.5427548 ],\n",
       "        [ 4.0198374 ,  2.5259695 , -4.627111  , ..., -0.32798684,\n",
       "         -0.30988783, -1.9279054 ],\n",
       "        ...,\n",
       "        [ 5.0545683 ,  3.3746178 , -4.452071  , ..., -0.7996819 ,\n",
       "         -1.7689104 , -2.6761549 ],\n",
       "        [ 4.2167726 ,  3.1746116 , -5.0935287 , ..., -0.32667318,\n",
       "         -1.7428653 , -2.184502  ],\n",
       "        [ 4.119267  ,  3.056037  , -3.6739433 , ..., -1.6432753 ,\n",
       "         -2.1998851 , -2.025814  ]]),\n",
       " 'y train 1': array([0, 0, 0, 0, 0, 1, 0, 0, 0, 0, 0, 0, 0, 0, 1, 1, 0, 0, 0, 0, 1, 0,\n",
       "        0, 0, 0, 0, 0, 0, 0, 0, 0, 0, 0, 1, 0, 0, 0, 1, 0, 1, 0, 0, 0, 1,\n",
       "        0, 0, 0, 1, 1, 0, 0, 0, 0, 0, 1, 0, 0, 0, 0, 0, 0, 0, 1, 1, 0, 0,\n",
       "        0, 0, 1, 1, 0, 0, 0, 1, 0, 0, 1, 0, 0, 0, 1, 0, 0, 0, 1, 1, 0, 0,\n",
       "        0, 0, 1, 0, 0, 0, 0, 1, 0, 0, 1, 1, 0, 0, 0, 0, 0, 0, 0, 0, 0, 0,\n",
       "        0, 0, 0, 0, 0, 0, 0, 0, 0, 0, 0, 0, 0, 0, 0, 0, 0, 0, 1, 1, 0, 0,\n",
       "        0, 0, 0, 1, 1, 0, 0, 0, 0, 0, 0, 0, 0, 0, 0, 0, 0, 0, 0, 1, 0, 0,\n",
       "        0, 0, 0, 1, 1, 0, 0, 0, 0, 0, 1, 0, 1, 0, 0, 1, 0, 0, 0, 0, 0, 0,\n",
       "        0, 0, 0, 0, 0, 0, 0, 0, 0, 0, 0, 0, 0, 0, 0, 0, 0, 1, 0, 0, 1, 0,\n",
       "        0, 0, 0, 0, 0, 1, 0, 1, 0, 0, 0, 0, 0, 0, 1, 1, 0, 0, 0, 1, 0, 0,\n",
       "        0, 0, 0, 1, 1, 0, 0, 0, 1, 1, 1, 0, 0, 0, 1, 0, 0, 0, 0, 0, 0, 1,\n",
       "        1, 1, 0, 1, 0, 1, 0, 0, 0, 0, 1, 0, 0, 0, 0, 0, 0, 0, 1, 0, 0, 0,\n",
       "        1, 0, 0, 0, 0, 0, 0, 0, 0, 1, 1, 1, 0, 1, 0, 0, 0, 0, 0, 0, 0, 0,\n",
       "        0, 0, 0, 0, 0, 1, 1, 0, 0, 1, 1, 0, 0, 1, 0, 0, 0, 0, 1, 1, 0, 1,\n",
       "        1, 0, 0, 0, 1, 0, 0, 0, 0, 0, 1, 1, 0, 1, 0, 1, 0, 0, 0, 1, 0, 0,\n",
       "        0, 1, 1, 0, 0, 0, 0, 0, 0, 0, 0, 0, 0, 1, 1, 0, 0, 0, 1, 0, 1, 1,\n",
       "        0, 0, 0, 0, 0, 1, 1, 0, 1, 1, 0, 1, 1, 0, 0, 0, 0, 0, 0, 0, 0, 0,\n",
       "        0, 0, 0, 0, 0, 0, 1, 1, 0, 0, 1, 0, 0, 1, 1, 0, 0, 1, 0, 1, 0, 1,\n",
       "        0, 0, 1, 0]),\n",
       " 'x test 1': array([[ 4.0149120e+00,  2.0261257e+00, -4.1923990e+00, ...,\n",
       "         -7.9175526e-01, -1.6366007e+00, -8.4516424e-01],\n",
       "        [ 5.0867157e+00,  3.2544663e+00, -4.3758097e+00, ...,\n",
       "          4.5218378e-01, -1.0958344e+00, -2.5588220e+00],\n",
       "        [ 3.4330046e+00,  1.4652389e+00, -4.4064946e+00, ...,\n",
       "         -3.8927388e-01, -1.9812948e+00, -1.5923504e+00],\n",
       "        ...,\n",
       "        [ 4.3264250e+00,  2.4941375e+00, -4.8772664e+00, ...,\n",
       "         -3.3083198e+00, -1.5409390e+00, -1.9801883e+00],\n",
       "        [ 4.4815420e+00,  3.1184018e+00, -5.2419880e+00, ...,\n",
       "         -1.6295552e-03, -1.6361271e+00, -2.3691669e+00],\n",
       "        [ 4.9696700e+00,  3.1550650e+00, -5.1042550e+00, ...,\n",
       "          2.1139765e-01, -6.5302920e-01, -1.4112865e+00]]),\n",
       " 'y test 1': array([0, 0, 0, 0, 0, 0, 0, 0, 0, 1, 1, 0, 1, 0, 0, 1, 1, 0, 0, 0, 0, 0,\n",
       "        0, 0, 1, 0, 1, 0, 0, 0, 0, 0, 0, 0, 1, 0, 1, 0, 0, 0, 0, 0, 0, 1,\n",
       "        0, 0, 0, 0, 0, 0, 1, 0, 1, 0, 0, 0, 1, 0, 0, 0, 0, 0, 1, 1, 0, 0,\n",
       "        0, 0, 0, 0, 0, 0, 0, 0, 0, 0, 0, 0, 0, 0, 0, 1, 0, 0, 1, 0, 0, 0,\n",
       "        0, 0, 0, 0, 0, 1, 1, 1, 1, 1, 1, 1]),\n",
       " 'x train 2': array([[ 2.8381774 ,  2.161265  , -4.295609  , ..., -1.509673  ,\n",
       "         -1.8955852 , -1.6098999 ],\n",
       "        [ 3.4760325 ,  1.7132928 , -5.1875186 , ..., -0.50057125,\n",
       "         -0.48905495, -1.5427548 ],\n",
       "        [ 4.0198374 ,  2.5259695 , -4.627111  , ..., -0.32798684,\n",
       "         -0.30988783, -1.9279054 ],\n",
       "        ...,\n",
       "        [ 5.0545683 ,  3.3746178 , -4.452071  , ..., -0.7996819 ,\n",
       "         -1.7689104 , -2.6761549 ],\n",
       "        [ 4.2167726 ,  3.1746116 , -5.0935287 , ..., -0.32667318,\n",
       "         -1.7428653 , -2.184502  ],\n",
       "        [ 4.119267  ,  3.056037  , -3.6739433 , ..., -1.6432753 ,\n",
       "         -2.1998851 , -2.025814  ]]),\n",
       " 'y train 2': array([0, 0, 0, 0, 0, 1, 0, 0, 0, 0, 0, 0, 0, 0, 1, 1, 0, 0, 0, 0, 1, 0,\n",
       "        0, 0, 0, 0, 0, 0, 0, 0, 0, 0, 0, 1, 0, 0, 0, 1, 0, 1, 0, 0, 0, 1,\n",
       "        0, 0, 0, 1, 1, 0, 0, 0, 0, 0, 1, 0, 0, 0, 0, 0, 0, 0, 1, 1, 0, 0,\n",
       "        0, 0, 1, 1, 0, 0, 0, 1, 0, 0, 1, 0, 0, 0, 1, 0, 0, 0, 1, 1, 0, 0,\n",
       "        0, 0, 1, 0, 0, 0, 0, 1, 0, 0, 0, 0, 0, 0, 0, 0, 1, 0, 1, 0, 0, 1,\n",
       "        1, 0, 1, 0, 0, 1, 1, 0, 0, 0, 0, 0, 0, 0, 1, 0, 1, 0, 0, 0, 0, 0,\n",
       "        0, 0, 1, 0, 1, 0, 0, 0, 0, 0, 0, 1, 0, 0, 0, 0, 0, 0, 1, 0, 1, 0,\n",
       "        0, 0, 1, 0, 0, 0, 0, 0, 1, 1, 0, 0, 0, 0, 0, 0, 0, 0, 0, 0, 0, 0,\n",
       "        0, 0, 0, 0, 0, 1, 0, 0, 1, 0, 0, 0, 0, 0, 0, 0, 0, 1, 1, 1, 1, 1,\n",
       "        1, 1, 0, 0, 0, 0, 0, 0, 0, 0, 0, 0, 0, 0, 0, 0, 0, 0, 0, 0, 0, 0,\n",
       "        0, 0, 0, 0, 0, 0, 0, 0, 0, 0, 0, 0, 0, 0, 0, 0, 0, 0, 0, 0, 0, 0,\n",
       "        1, 1, 0, 1, 0, 1, 0, 0, 0, 0, 1, 0, 0, 0, 0, 0, 0, 0, 1, 0, 0, 0,\n",
       "        1, 0, 0, 0, 0, 0, 0, 0, 0, 1, 1, 1, 0, 1, 0, 0, 0, 0, 0, 0, 0, 0,\n",
       "        0, 0, 0, 0, 0, 1, 1, 0, 0, 1, 1, 0, 0, 1, 0, 0, 0, 0, 1, 1, 0, 1,\n",
       "        1, 0, 0, 0, 1, 0, 0, 0, 0, 0, 1, 1, 0, 1, 0, 1, 0, 0, 0, 1, 0, 0,\n",
       "        0, 1, 1, 0, 0, 0, 0, 0, 0, 0, 0, 0, 0, 1, 1, 0, 0, 0, 1, 0, 1, 1,\n",
       "        0, 0, 0, 0, 0, 1, 1, 0, 1, 1, 0, 1, 1, 0, 0, 0, 0, 0, 0, 0, 0, 0,\n",
       "        0, 0, 0, 0, 0, 0, 1, 1, 0, 0, 1, 0, 0, 1, 1, 0, 0, 1, 0, 1, 0, 1,\n",
       "        0, 0, 1, 0]),\n",
       " 'x test 2': array([[ 5.5922785 ,  3.7092028 , -4.829623  , ..., -0.324118  ,\n",
       "         -2.420935  , -3.1071205 ],\n",
       "        [ 6.0932817 ,  2.767419  , -3.5429795 , ..., -0.5359707 ,\n",
       "          0.18722211, -3.3223975 ],\n",
       "        [ 3.499726  ,  1.4300464 , -4.406137  , ..., -0.11776918,\n",
       "         -0.8330345 , -1.6734563 ],\n",
       "        ...,\n",
       "        [ 3.7629364 ,  1.9717076 , -4.39157   , ..., -0.24425855,\n",
       "         -1.9204069 , -2.2603097 ],\n",
       "        [ 3.7470722 ,  1.8132418 , -4.6758814 , ..., -0.45511502,\n",
       "         -1.7887245 , -1.2458078 ],\n",
       "        [ 4.9373617 ,  4.295455  , -4.5308714 , ..., -2.138135  ,\n",
       "          1.7037582 , -4.0507956 ]]),\n",
       " 'y test 2': array([0, 0, 0, 0, 0, 0, 0, 0, 0, 0, 0, 0, 0, 0, 0, 0, 0, 0, 0, 0, 0, 0,\n",
       "        0, 0, 0, 0, 0, 0, 1, 1, 0, 0, 0, 0, 0, 1, 1, 0, 0, 0, 0, 0, 0, 0,\n",
       "        0, 0, 0, 0, 0, 0, 0, 1, 0, 0, 0, 0, 0, 1, 1, 0, 0, 0, 0, 0, 1, 0,\n",
       "        1, 0, 0, 1, 0, 0, 0, 0, 0, 0, 0, 0, 0, 0, 0, 0, 0, 0, 0, 0, 1, 1,\n",
       "        1, 1, 1, 1, 1, 1, 1, 1, 1, 1, 1, 1]),\n",
       " 'x train 3': array([[ 2.8381774 ,  2.161265  , -4.295609  , ..., -1.509673  ,\n",
       "         -1.8955852 , -1.6098999 ],\n",
       "        [ 3.4760325 ,  1.7132928 , -5.1875186 , ..., -0.50057125,\n",
       "         -0.48905495, -1.5427548 ],\n",
       "        [ 4.0198374 ,  2.5259695 , -4.627111  , ..., -0.32798684,\n",
       "         -0.30988783, -1.9279054 ],\n",
       "        ...,\n",
       "        [ 5.0545683 ,  3.3746178 , -4.452071  , ..., -0.7996819 ,\n",
       "         -1.7689104 , -2.6761549 ],\n",
       "        [ 4.2167726 ,  3.1746116 , -5.0935287 , ..., -0.32667318,\n",
       "         -1.7428653 , -2.184502  ],\n",
       "        [ 4.119267  ,  3.056037  , -3.6739433 , ..., -1.6432753 ,\n",
       "         -2.1998851 , -2.025814  ]]),\n",
       " 'y train 3': array([0, 0, 0, 0, 0, 1, 0, 0, 0, 0, 0, 0, 0, 0, 1, 1, 0, 0, 0, 0, 1, 0,\n",
       "        0, 0, 0, 0, 0, 0, 0, 0, 0, 0, 0, 1, 0, 0, 0, 1, 0, 1, 0, 0, 0, 1,\n",
       "        0, 0, 0, 1, 1, 0, 0, 0, 0, 0, 1, 0, 0, 0, 0, 0, 0, 0, 1, 1, 0, 0,\n",
       "        0, 0, 1, 1, 0, 0, 0, 1, 0, 0, 1, 0, 0, 0, 1, 0, 0, 0, 1, 1, 0, 0,\n",
       "        0, 0, 1, 0, 0, 0, 0, 1, 0, 0, 0, 0, 0, 0, 0, 0, 1, 0, 1, 0, 0, 1,\n",
       "        1, 0, 1, 0, 0, 1, 1, 0, 0, 0, 0, 0, 0, 0, 1, 0, 1, 0, 0, 0, 0, 0,\n",
       "        0, 0, 1, 0, 1, 0, 0, 0, 0, 0, 0, 1, 0, 0, 0, 0, 0, 0, 1, 0, 1, 0,\n",
       "        0, 0, 1, 0, 0, 0, 0, 0, 1, 1, 0, 0, 0, 0, 0, 0, 0, 0, 0, 0, 0, 0,\n",
       "        0, 0, 0, 0, 0, 1, 0, 0, 1, 0, 0, 0, 0, 0, 0, 0, 0, 0, 0, 1, 0, 0,\n",
       "        0, 0, 0, 0, 0, 1, 0, 0, 0, 1, 0, 0, 0, 0, 0, 0, 0, 0, 1, 0, 0, 0,\n",
       "        0, 1, 1, 1, 0, 0, 0, 0, 1, 1, 0, 0, 0, 0, 0, 1, 1, 0, 0, 0, 0, 0,\n",
       "        0, 0, 0, 0, 0, 0, 0, 0, 0, 1, 0, 0, 0, 0, 0, 1, 1, 0, 0, 0, 0, 0,\n",
       "        1, 0, 1, 0, 0, 1, 0, 0, 0, 0, 0, 0, 0, 0, 0, 0, 0, 0, 0, 0, 0, 0,\n",
       "        1, 1, 1, 1, 1, 1, 1, 1, 1, 1, 1, 1, 1, 1, 0, 0, 0, 0, 0, 0, 0, 0,\n",
       "        0, 0, 0, 0, 0, 0, 0, 0, 0, 0, 0, 0, 0, 0, 0, 1, 0, 0, 0, 1, 0, 0,\n",
       "        0, 1, 1, 0, 0, 0, 0, 0, 0, 0, 0, 0, 0, 1, 1, 0, 0, 0, 1, 0, 1, 1,\n",
       "        0, 0, 0, 0, 0, 1, 1, 0, 1, 1, 0, 1, 1, 0, 0, 0, 0, 0, 0, 0, 0, 0,\n",
       "        0, 0, 0, 0, 0, 0, 1, 1, 0, 0, 1, 0, 0, 1, 1, 0, 0, 1, 0, 1, 0, 1,\n",
       "        0, 0, 1, 0]),\n",
       " 'x test 3': array([[ 4.1416607 ,  2.748985  , -4.6431184 , ..., -0.26024058,\n",
       "         -1.5787473 , -1.9075509 ],\n",
       "        [ 4.6393175 ,  2.4697058 , -4.2589393 , ..., -0.88439864,\n",
       "         -0.6026988 , -2.0711162 ],\n",
       "        [ 4.4392953 ,  1.2703612 , -4.5863466 , ..., -0.49574688,\n",
       "         -0.97083443, -1.5914129 ],\n",
       "        ...,\n",
       "        [ 4.350249  ,  2.589741  , -6.434805  , ...,  0.4225967 ,\n",
       "         -0.06313977, -0.76653194],\n",
       "        [ 4.312571  ,  2.7125392 , -4.519454  , ..., -0.7547056 ,\n",
       "         -2.0970483 , -1.4621105 ],\n",
       "        [ 4.311288  ,  3.188205  , -5.0812116 , ..., -0.41245556,\n",
       "         -2.135444  , -1.7411782 ]]),\n",
       " 'y test 3': array([0, 0, 0, 0, 0, 0, 0, 0, 0, 0, 0, 0, 0, 0, 0, 0, 0, 0, 0, 0, 0, 0,\n",
       "        0, 0, 0, 0, 0, 0, 0, 0, 0, 0, 0, 0, 0, 0, 0, 0, 0, 0, 0, 0, 1, 1,\n",
       "        0, 1, 0, 1, 0, 0, 0, 0, 1, 0, 0, 0, 0, 0, 0, 0, 1, 0, 0, 0, 1, 0,\n",
       "        0, 0, 0, 0, 0, 0, 0, 1, 1, 1, 0, 1, 0, 0, 0, 0, 0, 0, 0, 0, 0, 1,\n",
       "        1, 1, 1, 1, 1, 1, 1, 1, 1, 1, 1, 1]),\n",
       " 'x train 4': array([[ 2.8381774 ,  2.161265  , -4.295609  , ..., -1.509673  ,\n",
       "         -1.8955852 , -1.6098999 ],\n",
       "        [ 3.4760325 ,  1.7132928 , -5.1875186 , ..., -0.50057125,\n",
       "         -0.48905495, -1.5427548 ],\n",
       "        [ 4.0198374 ,  2.5259695 , -4.627111  , ..., -0.32798684,\n",
       "         -0.30988783, -1.9279054 ],\n",
       "        ...,\n",
       "        [ 4.350249  ,  2.589741  , -6.434805  , ...,  0.4225967 ,\n",
       "         -0.06313977, -0.76653194],\n",
       "        [ 4.312571  ,  2.7125392 , -4.519454  , ..., -0.7547056 ,\n",
       "         -2.0970483 , -1.4621105 ],\n",
       "        [ 4.311288  ,  3.188205  , -5.0812116 , ..., -0.41245556,\n",
       "         -2.135444  , -1.7411782 ]]),\n",
       " 'y train 4': array([0, 0, 0, 0, 0, 1, 0, 0, 0, 0, 0, 0, 0, 0, 1, 1, 0, 0, 0, 0, 1, 0,\n",
       "        0, 0, 0, 0, 0, 0, 0, 0, 0, 0, 0, 1, 0, 0, 0, 1, 0, 1, 0, 0, 0, 1,\n",
       "        0, 0, 0, 1, 1, 0, 0, 0, 0, 0, 1, 0, 0, 0, 0, 0, 0, 0, 1, 1, 0, 0,\n",
       "        0, 0, 1, 1, 0, 0, 0, 1, 0, 0, 1, 0, 0, 0, 1, 0, 0, 0, 1, 1, 0, 0,\n",
       "        0, 0, 1, 0, 0, 0, 0, 1, 0, 0, 0, 0, 0, 0, 0, 0, 1, 0, 1, 0, 0, 1,\n",
       "        1, 0, 1, 0, 0, 1, 1, 0, 0, 0, 0, 0, 0, 0, 1, 0, 1, 0, 0, 0, 0, 0,\n",
       "        0, 0, 1, 0, 1, 0, 0, 0, 0, 0, 0, 1, 0, 0, 0, 0, 0, 0, 1, 0, 1, 0,\n",
       "        0, 0, 1, 0, 0, 0, 0, 0, 1, 1, 0, 0, 0, 0, 0, 0, 0, 0, 0, 0, 0, 0,\n",
       "        0, 0, 0, 0, 0, 1, 0, 0, 1, 0, 0, 0, 0, 0, 0, 0, 0, 0, 0, 1, 0, 0,\n",
       "        0, 0, 0, 0, 0, 1, 0, 0, 0, 1, 0, 0, 0, 0, 0, 0, 0, 0, 1, 0, 0, 0,\n",
       "        0, 1, 1, 1, 0, 0, 0, 0, 1, 1, 0, 0, 0, 0, 0, 1, 1, 0, 0, 0, 0, 0,\n",
       "        0, 0, 0, 0, 0, 0, 0, 0, 0, 1, 0, 0, 0, 0, 0, 1, 1, 0, 0, 0, 0, 0,\n",
       "        1, 0, 1, 0, 0, 1, 0, 0, 0, 0, 0, 0, 0, 0, 0, 0, 0, 0, 0, 0, 0, 0,\n",
       "        0, 0, 0, 0, 0, 0, 0, 1, 0, 0, 1, 0, 0, 0, 0, 0, 0, 1, 0, 1, 0, 0,\n",
       "        0, 0, 0, 0, 1, 1, 0, 0, 0, 1, 0, 0, 0, 0, 0, 1, 1, 0, 0, 0, 1, 1,\n",
       "        1, 0, 0, 0, 1, 0, 0, 0, 0, 0, 0, 1, 1, 1, 0, 1, 0, 1, 0, 0, 0, 0,\n",
       "        1, 0, 0, 0, 0, 0, 0, 0, 1, 0, 0, 0, 1, 0, 0, 0, 0, 0, 0, 0, 0, 1,\n",
       "        1, 1, 0, 1, 0, 0, 0, 0, 0, 0, 0, 0, 0, 1, 1, 1, 1, 1, 1, 1, 1, 1,\n",
       "        1, 1, 1, 1]),\n",
       " 'x test 4': array([[ 4.7560678 ,  2.8438416 , -5.2457566 , ...,  0.5982909 ,\n",
       "         -2.2672472 , -1.683365  ],\n",
       "        [ 4.8291335 ,  3.3902228 , -4.561939  , ..., -0.6842823 ,\n",
       "         -1.8808765 , -2.2414575 ],\n",
       "        [ 3.9591289 ,  3.1539044 , -4.613137  , ..., -0.21324484,\n",
       "         -1.1922824 , -2.316186  ],\n",
       "        ...,\n",
       "        [ 5.0545683 ,  3.3746178 , -4.452071  , ..., -0.7996819 ,\n",
       "         -1.7689104 , -2.6761549 ],\n",
       "        [ 4.2167726 ,  3.1746116 , -5.0935287 , ..., -0.32667318,\n",
       "         -1.7428653 , -2.184502  ],\n",
       "        [ 4.119267  ,  3.056037  , -3.6739433 , ..., -1.6432753 ,\n",
       "         -2.1998851 , -2.025814  ]]),\n",
       " 'y test 4': array([0, 0, 0, 0, 0, 0, 0, 0, 0, 0, 0, 0, 0, 0, 0, 0, 0, 0, 0, 0, 0, 0,\n",
       "        0, 1, 0, 0, 0, 1, 0, 0, 0, 1, 1, 0, 0, 0, 0, 0, 0, 0, 0, 0, 0, 1,\n",
       "        1, 0, 0, 0, 1, 0, 1, 1, 0, 0, 0, 0, 0, 1, 1, 0, 1, 1, 0, 1, 1, 0,\n",
       "        0, 0, 0, 0, 0, 0, 0, 0, 0, 0, 0, 0, 0, 0, 1, 1, 0, 0, 1, 0, 0, 1,\n",
       "        1, 0, 0, 1, 0, 1, 0, 1, 0, 0, 1, 0])}"
      ]
     },
     "execution_count": 461,
     "metadata": {},
     "output_type": "execute_result"
    }
   ],
   "source": [
    "models.folds"
   ]
  },
  {
   "cell_type": "code",
   "execution_count": 462,
   "metadata": {},
   "outputs": [],
   "source": [
    "all_memberships = models.all_memberships\n",
    "memberships = []\n",
    "\n",
    "for i in range(0,5):\n",
    "    for j in all_memberships[i]:\n",
    "        memberships.append(j)\n",
    "        \n",
    "memberships = pd.DataFrame(memberships)"
   ]
  },
  {
   "cell_type": "code",
   "execution_count": 463,
   "metadata": {},
   "outputs": [
    {
     "data": {
      "text/html": [
       "<div>\n",
       "<style scoped>\n",
       "    .dataframe tbody tr th:only-of-type {\n",
       "        vertical-align: middle;\n",
       "    }\n",
       "\n",
       "    .dataframe tbody tr th {\n",
       "        vertical-align: top;\n",
       "    }\n",
       "\n",
       "    .dataframe thead th {\n",
       "        text-align: right;\n",
       "    }\n",
       "</style>\n",
       "<table border=\"1\" class=\"dataframe\">\n",
       "  <thead>\n",
       "    <tr style=\"text-align: right;\">\n",
       "      <th></th>\n",
       "      <th>0</th>\n",
       "    </tr>\n",
       "  </thead>\n",
       "  <tbody>\n",
       "    <tr>\n",
       "      <th>0</th>\n",
       "      <td>0.0</td>\n",
       "    </tr>\n",
       "    <tr>\n",
       "      <th>1</th>\n",
       "      <td>0.0</td>\n",
       "    </tr>\n",
       "    <tr>\n",
       "      <th>2</th>\n",
       "      <td>0.0</td>\n",
       "    </tr>\n",
       "    <tr>\n",
       "      <th>3</th>\n",
       "      <td>0.0</td>\n",
       "    </tr>\n",
       "    <tr>\n",
       "      <th>4</th>\n",
       "      <td>0.0</td>\n",
       "    </tr>\n",
       "    <tr>\n",
       "      <th>5</th>\n",
       "      <td>0.0</td>\n",
       "    </tr>\n",
       "    <tr>\n",
       "      <th>6</th>\n",
       "      <td>0.0</td>\n",
       "    </tr>\n",
       "    <tr>\n",
       "      <th>7</th>\n",
       "      <td>0.0</td>\n",
       "    </tr>\n",
       "    <tr>\n",
       "      <th>8</th>\n",
       "      <td>0.0</td>\n",
       "    </tr>\n",
       "    <tr>\n",
       "      <th>9</th>\n",
       "      <td>0.0</td>\n",
       "    </tr>\n",
       "  </tbody>\n",
       "</table>\n",
       "</div>"
      ],
      "text/plain": [
       "     0\n",
       "0  0.0\n",
       "1  0.0\n",
       "2  0.0\n",
       "3  0.0\n",
       "4  0.0\n",
       "5  0.0\n",
       "6  0.0\n",
       "7  0.0\n",
       "8  0.0\n",
       "9  0.0"
      ]
     },
     "execution_count": 463,
     "metadata": {},
     "output_type": "execute_result"
    }
   ],
   "source": [
    "memberships[0:10]"
   ]
  },
  {
   "cell_type": "code",
   "execution_count": 464,
   "metadata": {},
   "outputs": [],
   "source": [
    "predictions = [(index, 1) if x.values >= 0.5 else (index, 0) for index, x in memberships.iterrows()]"
   ]
  },
  {
   "cell_type": "code",
   "execution_count": 465,
   "metadata": {},
   "outputs": [
    {
     "data": {
      "text/plain": [
       "[(0, 0),\n",
       " (1, 0),\n",
       " (2, 0),\n",
       " (3, 0),\n",
       " (4, 0),\n",
       " (5, 0),\n",
       " (6, 0),\n",
       " (7, 0),\n",
       " (8, 0),\n",
       " (9, 0)]"
      ]
     },
     "execution_count": 465,
     "metadata": {},
     "output_type": "execute_result"
    }
   ],
   "source": [
    "predictions[0:10]"
   ]
  },
  {
   "cell_type": "code",
   "execution_count": 466,
   "metadata": {},
   "outputs": [],
   "source": [
    "all_labels = models.all_labels\n",
    "labels = []\n",
    "\n",
    "for i in range(0,5):\n",
    "    for j in all_labels[i]:\n",
    "        labels.append(j)\n",
    "        \n",
    "labels = pd.DataFrame(labels)"
   ]
  },
  {
   "cell_type": "code",
   "execution_count": 467,
   "metadata": {},
   "outputs": [
    {
     "data": {
      "text/html": [
       "<div>\n",
       "<style scoped>\n",
       "    .dataframe tbody tr th:only-of-type {\n",
       "        vertical-align: middle;\n",
       "    }\n",
       "\n",
       "    .dataframe tbody tr th {\n",
       "        vertical-align: top;\n",
       "    }\n",
       "\n",
       "    .dataframe thead th {\n",
       "        text-align: right;\n",
       "    }\n",
       "</style>\n",
       "<table border=\"1\" class=\"dataframe\">\n",
       "  <thead>\n",
       "    <tr style=\"text-align: right;\">\n",
       "      <th></th>\n",
       "      <th>0</th>\n",
       "    </tr>\n",
       "  </thead>\n",
       "  <tbody>\n",
       "    <tr>\n",
       "      <th>0</th>\n",
       "      <td>0</td>\n",
       "    </tr>\n",
       "    <tr>\n",
       "      <th>1</th>\n",
       "      <td>0</td>\n",
       "    </tr>\n",
       "    <tr>\n",
       "      <th>2</th>\n",
       "      <td>0</td>\n",
       "    </tr>\n",
       "    <tr>\n",
       "      <th>3</th>\n",
       "      <td>0</td>\n",
       "    </tr>\n",
       "    <tr>\n",
       "      <th>4</th>\n",
       "      <td>0</td>\n",
       "    </tr>\n",
       "    <tr>\n",
       "      <th>5</th>\n",
       "      <td>1</td>\n",
       "    </tr>\n",
       "    <tr>\n",
       "      <th>6</th>\n",
       "      <td>0</td>\n",
       "    </tr>\n",
       "    <tr>\n",
       "      <th>7</th>\n",
       "      <td>0</td>\n",
       "    </tr>\n",
       "    <tr>\n",
       "      <th>8</th>\n",
       "      <td>0</td>\n",
       "    </tr>\n",
       "    <tr>\n",
       "      <th>9</th>\n",
       "      <td>0</td>\n",
       "    </tr>\n",
       "  </tbody>\n",
       "</table>\n",
       "</div>"
      ],
      "text/plain": [
       "   0\n",
       "0  0\n",
       "1  0\n",
       "2  0\n",
       "3  0\n",
       "4  0\n",
       "5  1\n",
       "6  0\n",
       "7  0\n",
       "8  0\n",
       "9  0"
      ]
     },
     "execution_count": 467,
     "metadata": {},
     "output_type": "execute_result"
    }
   ],
   "source": [
    "labels[0:10]"
   ]
  },
  {
   "cell_type": "code",
   "execution_count": 468,
   "metadata": {},
   "outputs": [
    {
     "data": {
      "text/plain": [
       "(500, 500, 500)"
      ]
     },
     "execution_count": 468,
     "metadata": {},
     "output_type": "execute_result"
    }
   ],
   "source": [
    "len(predictions), len(labels), len(memberships)"
   ]
  },
  {
   "cell_type": "markdown",
   "metadata": {},
   "source": [
    "# Frequencies"
   ]
  },
  {
   "cell_type": "code",
   "execution_count": 469,
   "metadata": {},
   "outputs": [],
   "source": [
    "def plot_hist(data):\n",
    "    plt.figure(figsize=(15, 7))\n",
    "    weights = np.ones_like(data)/float(len(data))\n",
    "    plt.hist(data, weights=weights)\n",
    "    plt.xlim(0,1)\n",
    "    plt.ylim(0,1)\n",
    "    plt.grid()"
   ]
  },
  {
   "cell_type": "code",
   "execution_count": 470,
   "metadata": {},
   "outputs": [
    {
     "data": {
      "image/png": "[encoded data removed]",
      "text/plain": [
       "<Figure size 1080x504 with 1 Axes>"
      ]
     },
     "metadata": {
      "needs_background": "light"
     },
     "output_type": "display_data"
    }
   ],
   "source": [
    "plot_hist(labels)\n",
    "\n",
    "plt.title(\"Labels\")\n",
    "plt.show()"
   ]
  },
  {
   "cell_type": "code",
   "execution_count": 471,
   "metadata": {},
   "outputs": [
    {
     "data": {
      "image/png": "[encoded data removed]",
      "text/plain": [
       "<Figure size 1080x504 with 1 Axes>"
      ]
     },
     "metadata": {
      "needs_background": "light"
     },
     "output_type": "display_data"
    }
   ],
   "source": [
    "plot_hist([i[1] for i in predictions])\n",
    "\n",
    "plt.title(\"Predictions after threshold\")\n",
    "plt.show()"
   ]
  },
  {
   "cell_type": "code",
   "execution_count": 472,
   "metadata": {},
   "outputs": [
    {
     "data": {
      "image/png": "[encoded data removed]",
      "text/plain": [
       "<Figure size 1080x504 with 1 Axes>"
      ]
     },
     "metadata": {
      "needs_background": "light"
     },
     "output_type": "display_data"
    }
   ],
   "source": [
    "plot_hist(memberships)\n",
    "\n",
    "plt.title(\"Memberships\")\n",
    "plt.show()"
   ]
  },
  {
   "cell_type": "code",
   "execution_count": 473,
   "metadata": {},
   "outputs": [
    {
     "data": {
      "text/html": [
       "<div>\n",
       "<style scoped>\n",
       "    .dataframe tbody tr th:only-of-type {\n",
       "        vertical-align: middle;\n",
       "    }\n",
       "\n",
       "    .dataframe tbody tr th {\n",
       "        vertical-align: top;\n",
       "    }\n",
       "\n",
       "    .dataframe thead th {\n",
       "        text-align: right;\n",
       "    }\n",
       "</style>\n",
       "<table border=\"1\" class=\"dataframe\">\n",
       "  <thead>\n",
       "    <tr style=\"text-align: right;\">\n",
       "      <th></th>\n",
       "      <th>0</th>\n",
       "    </tr>\n",
       "  </thead>\n",
       "  <tbody>\n",
       "    <tr>\n",
       "      <th>0</th>\n",
       "      <td>0.0</td>\n",
       "    </tr>\n",
       "    <tr>\n",
       "      <th>1</th>\n",
       "      <td>0.0</td>\n",
       "    </tr>\n",
       "    <tr>\n",
       "      <th>2</th>\n",
       "      <td>0.0</td>\n",
       "    </tr>\n",
       "    <tr>\n",
       "      <th>3</th>\n",
       "      <td>0.0</td>\n",
       "    </tr>\n",
       "    <tr>\n",
       "      <th>4</th>\n",
       "      <td>0.0</td>\n",
       "    </tr>\n",
       "    <tr>\n",
       "      <th>...</th>\n",
       "      <td>...</td>\n",
       "    </tr>\n",
       "    <tr>\n",
       "      <th>495</th>\n",
       "      <td>0.0</td>\n",
       "    </tr>\n",
       "    <tr>\n",
       "      <th>496</th>\n",
       "      <td>0.0</td>\n",
       "    </tr>\n",
       "    <tr>\n",
       "      <th>497</th>\n",
       "      <td>0.0</td>\n",
       "    </tr>\n",
       "    <tr>\n",
       "      <th>498</th>\n",
       "      <td>0.0</td>\n",
       "    </tr>\n",
       "    <tr>\n",
       "      <th>499</th>\n",
       "      <td>0.0</td>\n",
       "    </tr>\n",
       "  </tbody>\n",
       "</table>\n",
       "<p>500 rows × 1 columns</p>\n",
       "</div>"
      ],
      "text/plain": [
       "       0\n",
       "0    0.0\n",
       "1    0.0\n",
       "2    0.0\n",
       "3    0.0\n",
       "4    0.0\n",
       "..   ...\n",
       "495  0.0\n",
       "496  0.0\n",
       "497  0.0\n",
       "498  0.0\n",
       "499  0.0\n",
       "\n",
       "[500 rows x 1 columns]"
      ]
     },
     "execution_count": 473,
     "metadata": {},
     "output_type": "execute_result"
    }
   ],
   "source": [
    "memberships"
   ]
  },
  {
   "cell_type": "code",
   "execution_count": 474,
   "metadata": {},
   "outputs": [],
   "source": [
    "def select_radius(radius, threshold):\n",
    "    special_range = [(index, x[0]) for index, x in memberships.iterrows() if x.values <= threshold + radius and x.values >= threshold - radius]\n",
    "    return special_range"
   ]
  },
  {
   "cell_type": "code",
   "execution_count": 475,
   "metadata": {},
   "outputs": [
    {
     "data": {
      "text/plain": [
       "[]"
      ]
     },
     "execution_count": 475,
     "metadata": {},
     "output_type": "execute_result"
    }
   ],
   "source": [
    "interval = select_radius(0.15, 0.5)\n",
    "interval_ids = [index[0] for index in interval]\n",
    "interval[:10]"
   ]
  },
  {
   "cell_type": "code",
   "execution_count": 476,
   "metadata": {},
   "outputs": [
    {
     "data": {
      "image/png": "[encoded data removed]",
      "text/plain": [
       "<Figure size 1080x504 with 1 Axes>"
      ]
     },
     "metadata": {
      "needs_background": "light"
     },
     "output_type": "display_data"
    }
   ],
   "source": [
    "radius = 0.15\n",
    "plot_hist([x[1] for x in interval])\n",
    "\n",
    "plt.title(\"Memberships with radius \" + str(radius))\n",
    "plt.show()"
   ]
  },
  {
   "cell_type": "code",
   "execution_count": 477,
   "metadata": {},
   "outputs": [
    {
     "data": {
      "image/png": "[encoded data removed]",
      "text/plain": [
       "<Figure size 1080x504 with 1 Axes>"
      ]
     },
     "metadata": {
      "needs_background": "light"
     },
     "output_type": "display_data"
    }
   ],
   "source": [
    "plt.figure(figsize=(15, 7))\n",
    "plt.hist([x[1] for x in interval])\n",
    "plt.grid()\n",
    "plt.title(\"Memberships with radius \" + str(radius))\n",
    "plt.show()"
   ]
  },
  {
   "cell_type": "code",
   "execution_count": 478,
   "metadata": {},
   "outputs": [
    {
     "data": {
      "text/plain": [
       "[]"
      ]
     },
     "execution_count": 478,
     "metadata": {},
     "output_type": "execute_result"
    }
   ],
   "source": [
    "radius = 0.15\n",
    "select_radius(radius, 0.5)[:10]"
   ]
  },
  {
   "cell_type": "code",
   "execution_count": 479,
   "metadata": {},
   "outputs": [
    {
     "data": {
      "image/png": "[encoded data removed]",
      "text/plain": [
       "<Figure size 1080x504 with 1 Axes>"
      ]
     },
     "metadata": {
      "needs_background": "light"
     },
     "output_type": "display_data"
    }
   ],
   "source": [
    "radius = 0.25\n",
    "plot_hist([x[1] for x in interval])\n",
    "\n",
    "plt.title(\"Memberships with radius \" + str(radius))\n",
    "plt.show()"
   ]
  },
  {
   "cell_type": "code",
   "execution_count": 480,
   "metadata": {},
   "outputs": [
    {
     "data": {
      "image/png": "[encoded data removed]",
      "text/plain": [
       "<Figure size 1080x504 with 1 Axes>"
      ]
     },
     "metadata": {
      "needs_background": "light"
     },
     "output_type": "display_data"
    }
   ],
   "source": [
    "plt.figure(figsize=(15, 7))\n",
    "plt.hist([x[1] for x in interval])\n",
    "plt.grid()\n",
    "plt.title(\"Memberships with radius \" + str(radius))\n",
    "plt.show()"
   ]
  },
  {
   "cell_type": "markdown",
   "metadata": {},
   "source": [
    "# Classes of error (TP, FP, TN, FN)"
   ]
  },
  {
   "cell_type": "code",
   "execution_count": 481,
   "metadata": {},
   "outputs": [
    {
     "name": "stdout",
     "output_type": "stream",
     "text": [
      "Outcome Label Prediction Membership\n",
      "TN \t 0 \t 0 \t 0.0\n",
      "TN \t 0 \t 0 \t 0.0\n",
      "TN \t 0 \t 0 \t 0.0\n",
      "TN \t 0 \t 0 \t 0.0\n",
      "TN \t 0 \t 0 \t 0.0\n",
      "FN \t 1 \t 0 \t 0.0\n",
      "TN \t 0 \t 0 \t 0.0\n",
      "TN \t 0 \t 0 \t 0.0\n",
      "TN \t 0 \t 0 \t 0.0\n",
      "TN \t 0 \t 0 \t 0.0\n",
      "TN \t 0 \t 0 \t 0.0\n",
      "TN \t 0 \t 0 \t 0.0\n",
      "TN \t 0 \t 0 \t 0.0\n",
      "TN \t 0 \t 0 \t 0.0\n",
      "FN \t 1 \t 0 \t 0.0\n",
      "FN \t 1 \t 0 \t 0.0\n",
      "TN \t 0 \t 0 \t 0.0\n",
      "TN \t 0 \t 0 \t 0.0\n",
      "TN \t 0 \t 0 \t 0.0\n",
      "TN \t 0 \t 0 \t 0.0\n",
      "FN \t 1 \t 0 \t 0.0\n",
      "TN \t 0 \t 0 \t 0.0\n",
      "TN \t 0 \t 0 \t 0.0\n",
      "TN \t 0 \t 0 \t 0.0\n",
      "TN \t 0 \t 0 \t 0.0\n",
      "TN \t 0 \t 0 \t 0.0\n",
      "TN \t 0 \t 0 \t 0.0\n",
      "TN \t 0 \t 0 \t 0.0\n",
      "TN \t 0 \t 0 \t 0.0\n",
      "TN \t 0 \t 0 \t 0.0\n",
      "TN \t 0 \t 0 \t 0.0\n",
      "TN \t 0 \t 0 \t 0.0\n",
      "TN \t 0 \t 0 \t 0.0\n",
      "FN \t 1 \t 0 \t 0.0\n",
      "TN \t 0 \t 0 \t 0.0\n",
      "TN \t 0 \t 0 \t 0.0\n",
      "TN \t 0 \t 0 \t 0.0\n",
      "FN \t 1 \t 0 \t 0.0\n",
      "TN \t 0 \t 0 \t 0.0\n",
      "FN \t 1 \t 0 \t 0.0\n",
      "TN \t 0 \t 0 \t 0.0\n",
      "TN \t 0 \t 0 \t 0.0\n",
      "TN \t 0 \t 0 \t 0.0\n",
      "FN \t 1 \t 0 \t 0.0\n",
      "TN \t 0 \t 0 \t 0.0\n",
      "TN \t 0 \t 0 \t 0.0\n",
      "TN \t 0 \t 0 \t 0.0\n",
      "FN \t 1 \t 0 \t 0.0\n",
      "FN \t 1 \t 0 \t 0.0\n",
      "TN \t 0 \t 0 \t 0.0\n",
      "TN \t 0 \t 0 \t 0.0\n",
      "TN \t 0 \t 0 \t 0.0\n",
      "TN \t 0 \t 0 \t 0.0\n",
      "TN \t 0 \t 0 \t 0.0\n",
      "FN \t 1 \t 0 \t 0.0\n",
      "TN \t 0 \t 0 \t 0.0\n",
      "TN \t 0 \t 0 \t 0.0\n",
      "TN \t 0 \t 0 \t 0.0\n",
      "TN \t 0 \t 0 \t 0.0\n",
      "TN \t 0 \t 0 \t 0.0\n",
      "TN \t 0 \t 0 \t 0.0\n",
      "TN \t 0 \t 0 \t 0.0\n",
      "FN \t 1 \t 0 \t 0.0\n",
      "FN \t 1 \t 0 \t 0.0\n",
      "TN \t 0 \t 0 \t 0.0\n",
      "TN \t 0 \t 0 \t 0.0\n",
      "TN \t 0 \t 0 \t 0.0\n",
      "TN \t 0 \t 0 \t 0.0\n",
      "FN \t 1 \t 0 \t 0.0\n",
      "FN \t 1 \t 0 \t 0.0\n",
      "TN \t 0 \t 0 \t 0.0\n",
      "TN \t 0 \t 0 \t 0.0\n",
      "TN \t 0 \t 0 \t 0.0\n",
      "FN \t 1 \t 0 \t 0.0\n",
      "TN \t 0 \t 0 \t 0.0\n",
      "TN \t 0 \t 0 \t 0.0\n",
      "FN \t 1 \t 0 \t 0.0\n",
      "TN \t 0 \t 0 \t 0.0\n",
      "TN \t 0 \t 0 \t 0.0\n",
      "TN \t 0 \t 0 \t 0.0\n",
      "FN \t 1 \t 0 \t 0.0\n",
      "TN \t 0 \t 0 \t 0.0\n",
      "TN \t 0 \t 0 \t 0.0\n",
      "TN \t 0 \t 0 \t 0.0\n",
      "FN \t 1 \t 0 \t 0.0\n",
      "FN \t 1 \t 0 \t 0.0\n",
      "TN \t 0 \t 0 \t 0.0\n",
      "TN \t 0 \t 0 \t 0.0\n",
      "TN \t 0 \t 0 \t 0.0\n",
      "TN \t 0 \t 0 \t 0.0\n",
      "FN \t 1 \t 0 \t 0.0\n",
      "TN \t 0 \t 0 \t 0.0\n",
      "TN \t 0 \t 0 \t 0.0\n",
      "TN \t 0 \t 0 \t 0.0\n",
      "TN \t 0 \t 0 \t 0.0\n",
      "FN \t 1 \t 0 \t 0.0\n",
      "TN \t 0 \t 0 \t 0.0\n",
      "TN \t 0 \t 0 \t 0.0\n",
      "FN \t 1 \t 0 \t 0.0\n",
      "FN \t 1 \t 0 \t 0.0\n",
      "TN \t 0 \t 0 \t 0.0\n",
      "TN \t 0 \t 0 \t 0.0\n",
      "TN \t 0 \t 0 \t 0.0\n",
      "TN \t 0 \t 0 \t 0.0\n",
      "TN \t 0 \t 0 \t 0.0\n",
      "TN \t 0 \t 0 \t 0.0\n",
      "TN \t 0 \t 0 \t 0.0\n",
      "TN \t 0 \t 0 \t 0.0\n",
      "TN \t 0 \t 0 \t 0.0\n",
      "FN \t 1 \t 0 \t 0.0\n",
      "FN \t 1 \t 0 \t 0.0\n",
      "TN \t 0 \t 0 \t 0.0\n",
      "FN \t 1 \t 0 \t 0.0\n",
      "TN \t 0 \t 0 \t 0.0\n",
      "TN \t 0 \t 0 \t 0.0\n",
      "FN \t 1 \t 0 \t 0.0\n",
      "FN \t 1 \t 0 \t 0.0\n",
      "TN \t 0 \t 0 \t 0.0\n",
      "TN \t 0 \t 0 \t 0.0\n",
      "TN \t 0 \t 0 \t 0.0\n",
      "TN \t 0 \t 0 \t 0.0\n",
      "TN \t 0 \t 0 \t 0.0\n",
      "TN \t 0 \t 0 \t 0.0\n",
      "TN \t 0 \t 0 \t 0.0\n",
      "FN \t 1 \t 0 \t 0.0\n",
      "TN \t 0 \t 0 \t 0.0\n",
      "FN \t 1 \t 0 \t 0.0\n",
      "TN \t 0 \t 0 \t 0.0\n",
      "TN \t 0 \t 0 \t 0.0\n",
      "TN \t 0 \t 0 \t 0.0\n",
      "TN \t 0 \t 0 \t 0.0\n",
      "TN \t 0 \t 0 \t 0.0\n",
      "TN \t 0 \t 0 \t 0.0\n",
      "TN \t 0 \t 0 \t 0.0\n",
      "FN \t 1 \t 0 \t 0.0\n",
      "TN \t 0 \t 0 \t 0.0\n",
      "FN \t 1 \t 0 \t 0.0\n",
      "TN \t 0 \t 0 \t 0.0\n",
      "TN \t 0 \t 0 \t 0.0\n",
      "TN \t 0 \t 0 \t 0.0\n",
      "TN \t 0 \t 0 \t 0.0\n",
      "TN \t 0 \t 0 \t 0.0\n",
      "TN \t 0 \t 0 \t 0.0\n",
      "FN \t 1 \t 0 \t 0.0\n",
      "TN \t 0 \t 0 \t 0.0\n",
      "TN \t 0 \t 0 \t 0.0\n",
      "TN \t 0 \t 0 \t 0.0\n",
      "TN \t 0 \t 0 \t 0.0\n",
      "TN \t 0 \t 0 \t 0.0\n",
      "TN \t 0 \t 0 \t 0.0\n",
      "FN \t 1 \t 0 \t 0.0\n",
      "TN \t 0 \t 0 \t 0.0\n",
      "FN \t 1 \t 0 \t 0.0\n",
      "TN \t 0 \t 0 \t 0.0\n",
      "TN \t 0 \t 0 \t 0.0\n",
      "TN \t 0 \t 0 \t 0.0\n",
      "FN \t 1 \t 0 \t 0.0\n",
      "TN \t 0 \t 0 \t 0.0\n",
      "TN \t 0 \t 0 \t 0.0\n",
      "TN \t 0 \t 0 \t 0.0\n",
      "TN \t 0 \t 0 \t 0.0\n",
      "TN \t 0 \t 0 \t 0.0\n",
      "FN \t 1 \t 0 \t 0.0\n",
      "FN \t 1 \t 0 \t 0.0\n",
      "TN \t 0 \t 0 \t 0.0\n",
      "TN \t 0 \t 0 \t 0.0\n",
      "TN \t 0 \t 0 \t 0.0\n",
      "TN \t 0 \t 0 \t 0.0\n",
      "TN \t 0 \t 0 \t 0.0\n",
      "TN \t 0 \t 0 \t 0.0\n",
      "TN \t 0 \t 0 \t 0.0\n",
      "TN \t 0 \t 0 \t 0.0\n",
      "TN \t 0 \t 0 \t 0.0\n",
      "TN \t 0 \t 0 \t 0.0\n",
      "TN \t 0 \t 0 \t 0.0\n",
      "TN \t 0 \t 0 \t 0.0\n",
      "TN \t 0 \t 0 \t 0.0\n",
      "TN \t 0 \t 0 \t 0.0\n",
      "TN \t 0 \t 0 \t 0.0\n",
      "TN \t 0 \t 0 \t 0.0\n",
      "TN \t 0 \t 0 \t 0.0\n",
      "FN \t 1 \t 0 \t 0.0\n",
      "TN \t 0 \t 0 \t 0.0\n",
      "TN \t 0 \t 0 \t 0.0\n",
      "FN \t 1 \t 0 \t 0.0\n",
      "TN \t 0 \t 0 \t 0.0\n",
      "TN \t 0 \t 0 \t 0.0\n",
      "TN \t 0 \t 0 \t 0.0\n",
      "TN \t 0 \t 0 \t 0.0\n",
      "TN \t 0 \t 0 \t 0.0\n",
      "TN \t 0 \t 0 \t 0.0\n",
      "TN \t 0 \t 0 \t 0.0\n",
      "TN \t 0 \t 0 \t 0.0\n",
      "FN \t 1 \t 0 \t 0.0\n",
      "FN \t 1 \t 0 \t 0.0\n",
      "FN \t 1 \t 0 \t 0.0\n",
      "FN \t 1 \t 0 \t 0.0\n",
      "FN \t 1 \t 0 \t 0.0\n",
      "FN \t 1 \t 0 \t 0.0\n",
      "FN \t 1 \t 0 \t 0.0\n",
      "TN \t 0 \t 0 \t 0.0\n",
      "TN \t 0 \t 0 \t 0.0\n",
      "TN \t 0 \t 0 \t 0.0\n",
      "TN \t 0 \t 0 \t 0.0\n",
      "TN \t 0 \t 0 \t 0.0\n",
      "TN \t 0 \t 0 \t 0.0\n",
      "TN \t 0 \t 0 \t 0.0\n",
      "TN \t 0 \t 0 \t 0.0\n",
      "TN \t 0 \t 0 \t 0.0\n",
      "TN \t 0 \t 0 \t 0.0\n",
      "TN \t 0 \t 0 \t 0.0\n",
      "TN \t 0 \t 0 \t 0.0\n",
      "TN \t 0 \t 0 \t 0.0\n",
      "TN \t 0 \t 0 \t 0.0\n",
      "TN \t 0 \t 0 \t 0.0\n",
      "TN \t 0 \t 0 \t 0.0\n",
      "TN \t 0 \t 0 \t 0.0\n",
      "TN \t 0 \t 0 \t 0.0\n",
      "TN \t 0 \t 0 \t 0.0\n",
      "TN \t 0 \t 0 \t 0.0\n",
      "TN \t 0 \t 0 \t 0.0\n",
      "TN \t 0 \t 0 \t 0.0\n",
      "TN \t 0 \t 0 \t 0.0\n",
      "TN \t 0 \t 0 \t 0.0\n",
      "TN \t 0 \t 0 \t 0.0\n",
      "TN \t 0 \t 0 \t 0.0\n",
      "TN \t 0 \t 0 \t 0.0\n",
      "TN \t 0 \t 0 \t 0.0\n",
      "FN \t 1 \t 0 \t 0.0\n",
      "FN \t 1 \t 0 \t 0.0\n",
      "TN \t 0 \t 0 \t 0.0\n",
      "TN \t 0 \t 0 \t 0.0\n",
      "TN \t 0 \t 0 \t 0.0\n",
      "TN \t 0 \t 0 \t 0.0\n",
      "TN \t 0 \t 0 \t 0.0\n",
      "FN \t 1 \t 0 \t 0.0\n",
      "FN \t 1 \t 0 \t 0.0\n",
      "TN \t 0 \t 0 \t 0.0\n",
      "TN \t 0 \t 0 \t 0.0\n",
      "TN \t 0 \t 0 \t 0.0\n",
      "TN \t 0 \t 0 \t 0.0\n",
      "TN \t 0 \t 0 \t 0.0\n",
      "TN \t 0 \t 0 \t 0.0\n",
      "TN \t 0 \t 0 \t 0.0\n",
      "TN \t 0 \t 0 \t 0.0\n",
      "TN \t 0 \t 0 \t 0.0\n",
      "TN \t 0 \t 0 \t 0.0\n",
      "TN \t 0 \t 0 \t 0.0\n",
      "TN \t 0 \t 0 \t 0.0\n",
      "TN \t 0 \t 0 \t 0.0\n",
      "TN \t 0 \t 0 \t 0.0\n",
      "FN \t 1 \t 0 \t 0.0\n",
      "TN \t 0 \t 0 \t 0.0\n",
      "TN \t 0 \t 0 \t 0.0\n",
      "TN \t 0 \t 0 \t 0.0\n",
      "TN \t 0 \t 0 \t 0.0\n",
      "TN \t 0 \t 0 \t 0.0\n",
      "FN \t 1 \t 0 \t 0.0\n",
      "FN \t 1 \t 0 \t 0.0\n",
      "TN \t 0 \t 0 \t 0.0\n",
      "TN \t 0 \t 0 \t 0.0\n",
      "TN \t 0 \t 0 \t 0.0\n",
      "TN \t 0 \t 0 \t 0.0\n",
      "TN \t 0 \t 0 \t 0.0\n",
      "FN \t 1 \t 0 \t 0.0\n",
      "TN \t 0 \t 0 \t 0.0\n",
      "FN \t 1 \t 0 \t 0.0\n",
      "TN \t 0 \t 0 \t 0.0\n",
      "TN \t 0 \t 0 \t 0.0\n",
      "FN \t 1 \t 0 \t 0.0\n",
      "TN \t 0 \t 0 \t 0.0\n",
      "TN \t 0 \t 0 \t 0.0\n",
      "TN \t 0 \t 0 \t 0.0\n",
      "TN \t 0 \t 0 \t 0.0\n",
      "TN \t 0 \t 0 \t 0.0\n",
      "TN \t 0 \t 0 \t 0.0\n",
      "TN \t 0 \t 0 \t 0.0\n",
      "TN \t 0 \t 0 \t 0.0\n",
      "TN \t 0 \t 0 \t 0.0\n",
      "TN \t 0 \t 0 \t 0.0\n",
      "TN \t 0 \t 0 \t 0.0\n",
      "TN \t 0 \t 0 \t 0.0\n",
      "TN \t 0 \t 0 \t 0.0\n",
      "TN \t 0 \t 0 \t 0.0\n",
      "TN \t 0 \t 0 \t 0.0\n",
      "TN \t 0 \t 0 \t 0.0\n",
      "FN \t 1 \t 0 \t 0.0\n",
      "FN \t 1 \t 0 \t 0.0\n",
      "FN \t 1 \t 0 \t 0.0\n",
      "FN \t 1 \t 0 \t 0.0\n",
      "FN \t 1 \t 0 \t 0.0\n",
      "FN \t 1 \t 0 \t 0.0\n",
      "FN \t 1 \t 0 \t 0.0\n",
      "FN \t 1 \t 0 \t 0.0\n",
      "FN \t 1 \t 0 \t 0.0\n",
      "FN \t 1 \t 0 \t 0.0\n",
      "FN \t 1 \t 0 \t 0.0\n",
      "FN \t 1 \t 0 \t 0.0\n",
      "FN \t 1 \t 0 \t 0.0\n",
      "FN \t 1 \t 0 \t 0.0\n",
      "TN \t 0 \t 0 \t 0.0\n",
      "TN \t 0 \t 0 \t 0.0\n",
      "TN \t 0 \t 0 \t 0.0\n",
      "TN \t 0 \t 0 \t 0.0\n",
      "TN \t 0 \t 0 \t 0.0\n",
      "TN \t 0 \t 0 \t 0.0\n",
      "TN \t 0 \t 0 \t 0.0\n",
      "TN \t 0 \t 0 \t 0.0\n",
      "TN \t 0 \t 0 \t 0.0\n",
      "TN \t 0 \t 0 \t 0.0\n",
      "TN \t 0 \t 0 \t 0.0\n",
      "TN \t 0 \t 0 \t 0.0\n",
      "TN \t 0 \t 0 \t 0.0\n",
      "TN \t 0 \t 0 \t 0.0\n",
      "TN \t 0 \t 0 \t 0.0\n",
      "TN \t 0 \t 0 \t 0.0\n",
      "TN \t 0 \t 0 \t 0.0\n",
      "TN \t 0 \t 0 \t 0.0\n",
      "TN \t 0 \t 0 \t 0.0\n",
      "TN \t 0 \t 0 \t 0.0\n",
      "TN \t 0 \t 0 \t 0.0\n",
      "TN \t 0 \t 0 \t 0.0\n",
      "TN \t 0 \t 0 \t 0.0\n",
      "TN \t 0 \t 0 \t 0.0\n",
      "TN \t 0 \t 0 \t 0.0\n",
      "TN \t 0 \t 0 \t 0.0\n",
      "TN \t 0 \t 0 \t 0.0\n",
      "TN \t 0 \t 0 \t 0.0\n",
      "TN \t 0 \t 0 \t 0.0\n",
      "TN \t 0 \t 0 \t 0.0\n",
      "TN \t 0 \t 0 \t 0.0\n",
      "TN \t 0 \t 0 \t 0.0\n",
      "TN \t 0 \t 0 \t 0.0\n",
      "TN \t 0 \t 0 \t 0.0\n",
      "TN \t 0 \t 0 \t 0.0\n",
      "TN \t 0 \t 0 \t 0.0\n",
      "TN \t 0 \t 0 \t 0.0\n",
      "TN \t 0 \t 0 \t 0.0\n",
      "TN \t 0 \t 0 \t 0.0\n",
      "TN \t 0 \t 0 \t 0.0\n",
      "TN \t 0 \t 0 \t 0.0\n",
      "TN \t 0 \t 0 \t 0.0\n",
      "FN \t 1 \t 0 \t 0.0\n",
      "FN \t 1 \t 0 \t 0.0\n",
      "TN \t 0 \t 0 \t 0.0\n",
      "FN \t 1 \t 0 \t 0.0\n",
      "TN \t 0 \t 0 \t 0.0\n",
      "FN \t 1 \t 0 \t 0.0\n",
      "TN \t 0 \t 0 \t 0.0\n",
      "TN \t 0 \t 0 \t 0.0\n",
      "TN \t 0 \t 0 \t 0.0\n",
      "TN \t 0 \t 0 \t 0.0\n",
      "FN \t 1 \t 0 \t 0.0\n",
      "TN \t 0 \t 0 \t 0.0\n",
      "TN \t 0 \t 0 \t 0.0\n",
      "TN \t 0 \t 0 \t 0.0\n",
      "TN \t 0 \t 0 \t 0.0\n",
      "TN \t 0 \t 0 \t 0.0\n",
      "TN \t 0 \t 0 \t 0.0\n",
      "TN \t 0 \t 0 \t 0.0\n",
      "FN \t 1 \t 0 \t 0.0\n",
      "TN \t 0 \t 0 \t 0.0\n",
      "TN \t 0 \t 0 \t 0.0\n",
      "TN \t 0 \t 0 \t 0.0\n",
      "FN \t 1 \t 0 \t 0.0\n",
      "TN \t 0 \t 0 \t 0.0\n",
      "TN \t 0 \t 0 \t 0.0\n",
      "TN \t 0 \t 0 \t 0.0\n",
      "TN \t 0 \t 0 \t 0.0\n",
      "TN \t 0 \t 0 \t 0.0\n",
      "TN \t 0 \t 0 \t 0.0\n",
      "TN \t 0 \t 0 \t 0.0\n",
      "TN \t 0 \t 0 \t 0.0\n",
      "FN \t 1 \t 0 \t 0.0\n",
      "FN \t 1 \t 0 \t 0.0\n",
      "FN \t 1 \t 0 \t 0.0\n",
      "TN \t 0 \t 0 \t 0.0\n",
      "FN \t 1 \t 0 \t 0.0\n",
      "TN \t 0 \t 0 \t 0.0\n",
      "TN \t 0 \t 0 \t 0.0\n",
      "TN \t 0 \t 0 \t 0.0\n",
      "TN \t 0 \t 0 \t 0.0\n",
      "TN \t 0 \t 0 \t 0.0\n",
      "TN \t 0 \t 0 \t 0.0\n",
      "TN \t 0 \t 0 \t 0.0\n",
      "TN \t 0 \t 0 \t 0.0\n",
      "TN \t 0 \t 0 \t 0.0\n",
      "FN \t 1 \t 0 \t 0.0\n",
      "FN \t 1 \t 0 \t 0.0\n",
      "FN \t 1 \t 0 \t 0.0\n",
      "FN \t 1 \t 0 \t 0.0\n",
      "FN \t 1 \t 0 \t 0.0\n",
      "FN \t 1 \t 0 \t 0.0\n",
      "FN \t 1 \t 0 \t 0.0\n",
      "FN \t 1 \t 0 \t 0.0\n",
      "FN \t 1 \t 0 \t 0.0\n",
      "FN \t 1 \t 0 \t 0.0\n",
      "FN \t 1 \t 0 \t 0.0\n",
      "FN \t 1 \t 0 \t 0.0\n",
      "FN \t 1 \t 0 \t 0.0\n",
      "TN \t 0 \t 0 \t 0.0\n",
      "TN \t 0 \t 0 \t 0.0\n",
      "TN \t 0 \t 0 \t 0.0\n",
      "TN \t 0 \t 0 \t 0.0\n",
      "TN \t 0 \t 0 \t 0.0\n",
      "TN \t 0 \t 0 \t 0.0\n",
      "TN \t 0 \t 0 \t 0.0\n",
      "TN \t 0 \t 0 \t 0.0\n",
      "TN \t 0 \t 0 \t 0.0\n",
      "TN \t 0 \t 0 \t 0.0\n",
      "TN \t 0 \t 0 \t 0.0\n",
      "TN \t 0 \t 0 \t 0.0\n",
      "TN \t 0 \t 0 \t 0.0\n",
      "TN \t 0 \t 0 \t 0.0\n",
      "TN \t 0 \t 0 \t 0.0\n",
      "TN \t 0 \t 0 \t 0.0\n",
      "TN \t 0 \t 0 \t 0.0\n",
      "TN \t 0 \t 0 \t 0.0\n",
      "TN \t 0 \t 0 \t 0.0\n",
      "TN \t 0 \t 0 \t 0.0\n",
      "TN \t 0 \t 0 \t 0.0\n",
      "TN \t 0 \t 0 \t 0.0\n",
      "TN \t 0 \t 0 \t 0.0\n",
      "FN \t 1 \t 0 \t 0.0\n",
      "TN \t 0 \t 0 \t 0.0\n",
      "TN \t 0 \t 0 \t 0.0\n",
      "TN \t 0 \t 0 \t 0.0\n",
      "FN \t 1 \t 0 \t 0.0\n",
      "TN \t 0 \t 0 \t 0.0\n",
      "TN \t 0 \t 0 \t 0.0\n",
      "TN \t 0 \t 0 \t 0.0\n",
      "FN \t 1 \t 0 \t 0.0\n",
      "FN \t 1 \t 0 \t 0.0\n",
      "TN \t 0 \t 0 \t 0.0\n",
      "TN \t 0 \t 0 \t 0.0\n",
      "TN \t 0 \t 0 \t 0.0\n",
      "TN \t 0 \t 0 \t 0.0\n",
      "TN \t 0 \t 0 \t 0.0\n",
      "TN \t 0 \t 0 \t 0.0\n",
      "TN \t 0 \t 0 \t 0.0\n",
      "TN \t 0 \t 0 \t 0.0\n",
      "TN \t 0 \t 0 \t 0.0\n",
      "TN \t 0 \t 0 \t 0.0\n",
      "FN \t 1 \t 0 \t 0.0\n",
      "FN \t 1 \t 0 \t 0.0\n",
      "TN \t 0 \t 0 \t 0.0\n",
      "TN \t 0 \t 0 \t 0.0\n",
      "TN \t 0 \t 0 \t 0.0\n",
      "FN \t 1 \t 0 \t 0.0\n",
      "TN \t 0 \t 0 \t 0.0\n",
      "FN \t 1 \t 0 \t 0.0\n",
      "FN \t 1 \t 0 \t 0.0\n",
      "TN \t 0 \t 0 \t 0.0\n",
      "TN \t 0 \t 0 \t 0.0\n",
      "TN \t 0 \t 0 \t 0.0\n",
      "TN \t 0 \t 0 \t 0.0\n",
      "TN \t 0 \t 0 \t 0.0\n",
      "FN \t 1 \t 0 \t 0.0\n",
      "FN \t 1 \t 0 \t 0.0\n",
      "TN \t 0 \t 0 \t 0.0\n",
      "FN \t 1 \t 0 \t 0.0\n",
      "FN \t 1 \t 0 \t 0.0\n",
      "TN \t 0 \t 0 \t 0.0\n",
      "FN \t 1 \t 0 \t 0.0\n",
      "FN \t 1 \t 0 \t 0.0\n",
      "TN \t 0 \t 0 \t 0.0\n",
      "TN \t 0 \t 0 \t 0.0\n",
      "TN \t 0 \t 0 \t 0.0\n",
      "TN \t 0 \t 0 \t 0.0\n",
      "TN \t 0 \t 0 \t 0.0\n",
      "TN \t 0 \t 0 \t 0.0\n",
      "TN \t 0 \t 0 \t 0.0\n",
      "TN \t 0 \t 0 \t 0.0\n",
      "TN \t 0 \t 0 \t 0.0\n",
      "TN \t 0 \t 0 \t 0.0\n",
      "TN \t 0 \t 0 \t 0.0\n",
      "TN \t 0 \t 0 \t 0.0\n",
      "TN \t 0 \t 0 \t 0.0\n",
      "TN \t 0 \t 0 \t 0.0\n",
      "TN \t 0 \t 0 \t 0.0\n",
      "FN \t 1 \t 0 \t 0.0\n",
      "FN \t 1 \t 0 \t 0.0\n",
      "TN \t 0 \t 0 \t 0.0\n",
      "TN \t 0 \t 0 \t 0.0\n",
      "FN \t 1 \t 0 \t 0.0\n",
      "TN \t 0 \t 0 \t 0.0\n",
      "TN \t 0 \t 0 \t 0.0\n",
      "FN \t 1 \t 0 \t 0.0\n",
      "FN \t 1 \t 0 \t 0.0\n",
      "TN \t 0 \t 0 \t 0.0\n",
      "TN \t 0 \t 0 \t 0.0\n",
      "FN \t 1 \t 0 \t 0.0\n",
      "TN \t 0 \t 0 \t 0.0\n",
      "FN \t 1 \t 0 \t 0.0\n",
      "TN \t 0 \t 0 \t 0.0\n",
      "FN \t 1 \t 0 \t 0.0\n",
      "TN \t 0 \t 0 \t 0.0\n",
      "TN \t 0 \t 0 \t 0.0\n",
      "FN \t 1 \t 0 \t 0.0\n",
      "TN \t 0 \t 0 \t 0.0\n"
     ]
    }
   ],
   "source": [
    "data = pd.DataFrame(columns = [\"Outcome\", \"Label\", \"Prediction\", \"Membership\"])\n",
    "\n",
    "print(\"Outcome\", \"Label\", \"Prediction\", \"Membership\")\n",
    "\n",
    "for lab, pred, memb in zip(labels[0], [x[1] for x in predictions], memberships[0]):\n",
    "    if pred == 1:\n",
    "        if lab == pred:\n",
    "            data = data.append({\n",
    "                \"Outcome\": \"TP\", \"Label\": lab, \"Prediction\": pred, \"Membership\": memb\n",
    "            }, ignore_index=True)\n",
    "            print(\"TP\", \"\\t\", lab, \"\\t\", pred, \"\\t\", memb)\n",
    "        else:\n",
    "            data = data.append({\n",
    "                \"Outcome\": \"FP\", \"Label\": lab, \"Prediction\": pred, \"Membership\": memb\n",
    "            }, ignore_index=True)\n",
    "            print(\"FP\", \"\\t\", lab, \"\\t\", pred, \"\\t\", memb)\n",
    "    else:\n",
    "        if lab == pred:\n",
    "            data = data.append({\n",
    "                \"Outcome\": \"TN\", \"Label\": lab, \"Prediction\": pred, \"Membership\": memb\n",
    "            }, ignore_index=True)\n",
    "            print(\"TN\", \"\\t\", lab, \"\\t\", pred, \"\\t\", memb)\n",
    "        else:\n",
    "            data = data.append({\n",
    "                \"Outcome\": \"FN\", \"Label\": lab, \"Prediction\": pred, \"Membership\": memb\n",
    "            }, ignore_index=True)\n",
    "            print(\"FN\", \"\\t\", lab, \"\\t\", pred, \"\\t\", memb)"
   ]
  },
  {
   "cell_type": "code",
   "execution_count": 482,
   "metadata": {},
   "outputs": [
    {
     "data": {
      "text/html": [
       "<div>\n",
       "<style scoped>\n",
       "    .dataframe tbody tr th:only-of-type {\n",
       "        vertical-align: middle;\n",
       "    }\n",
       "\n",
       "    .dataframe tbody tr th {\n",
       "        vertical-align: top;\n",
       "    }\n",
       "\n",
       "    .dataframe thead th {\n",
       "        text-align: right;\n",
       "    }\n",
       "</style>\n",
       "<table border=\"1\" class=\"dataframe\">\n",
       "  <thead>\n",
       "    <tr style=\"text-align: right;\">\n",
       "      <th></th>\n",
       "      <th>Outcome</th>\n",
       "      <th>Label</th>\n",
       "      <th>Prediction</th>\n",
       "      <th>Membership</th>\n",
       "    </tr>\n",
       "  </thead>\n",
       "  <tbody>\n",
       "  </tbody>\n",
       "</table>\n",
       "</div>"
      ],
      "text/plain": [
       "Empty DataFrame\n",
       "Columns: [Outcome, Label, Prediction, Membership]\n",
       "Index: []"
      ]
     },
     "execution_count": 482,
     "metadata": {},
     "output_type": "execute_result"
    }
   ],
   "source": [
    "data[data[\"Outcome\"] == \"TP\"].head(10)"
   ]
  },
  {
   "cell_type": "code",
   "execution_count": 483,
   "metadata": {},
   "outputs": [
    {
     "data": {
      "text/html": [
       "<div>\n",
       "<style scoped>\n",
       "    .dataframe tbody tr th:only-of-type {\n",
       "        vertical-align: middle;\n",
       "    }\n",
       "\n",
       "    .dataframe tbody tr th {\n",
       "        vertical-align: top;\n",
       "    }\n",
       "\n",
       "    .dataframe thead th {\n",
       "        text-align: right;\n",
       "    }\n",
       "</style>\n",
       "<table border=\"1\" class=\"dataframe\">\n",
       "  <thead>\n",
       "    <tr style=\"text-align: right;\">\n",
       "      <th></th>\n",
       "      <th>Outcome</th>\n",
       "      <th>Label</th>\n",
       "      <th>Prediction</th>\n",
       "      <th>Membership</th>\n",
       "    </tr>\n",
       "  </thead>\n",
       "  <tbody>\n",
       "  </tbody>\n",
       "</table>\n",
       "</div>"
      ],
      "text/plain": [
       "Empty DataFrame\n",
       "Columns: [Outcome, Label, Prediction, Membership]\n",
       "Index: []"
      ]
     },
     "execution_count": 483,
     "metadata": {},
     "output_type": "execute_result"
    }
   ],
   "source": [
    "data[data[\"Outcome\"] == \"FP\"].head(10)"
   ]
  },
  {
   "cell_type": "code",
   "execution_count": 484,
   "metadata": {},
   "outputs": [
    {
     "data": {
      "text/html": [
       "<div>\n",
       "<style scoped>\n",
       "    .dataframe tbody tr th:only-of-type {\n",
       "        vertical-align: middle;\n",
       "    }\n",
       "\n",
       "    .dataframe tbody tr th {\n",
       "        vertical-align: top;\n",
       "    }\n",
       "\n",
       "    .dataframe thead th {\n",
       "        text-align: right;\n",
       "    }\n",
       "</style>\n",
       "<table border=\"1\" class=\"dataframe\">\n",
       "  <thead>\n",
       "    <tr style=\"text-align: right;\">\n",
       "      <th></th>\n",
       "      <th>Outcome</th>\n",
       "      <th>Label</th>\n",
       "      <th>Prediction</th>\n",
       "      <th>Membership</th>\n",
       "    </tr>\n",
       "  </thead>\n",
       "  <tbody>\n",
       "    <tr>\n",
       "      <th>0</th>\n",
       "      <td>TN</td>\n",
       "      <td>0</td>\n",
       "      <td>0</td>\n",
       "      <td>0.0</td>\n",
       "    </tr>\n",
       "    <tr>\n",
       "      <th>1</th>\n",
       "      <td>TN</td>\n",
       "      <td>0</td>\n",
       "      <td>0</td>\n",
       "      <td>0.0</td>\n",
       "    </tr>\n",
       "    <tr>\n",
       "      <th>2</th>\n",
       "      <td>TN</td>\n",
       "      <td>0</td>\n",
       "      <td>0</td>\n",
       "      <td>0.0</td>\n",
       "    </tr>\n",
       "    <tr>\n",
       "      <th>3</th>\n",
       "      <td>TN</td>\n",
       "      <td>0</td>\n",
       "      <td>0</td>\n",
       "      <td>0.0</td>\n",
       "    </tr>\n",
       "    <tr>\n",
       "      <th>4</th>\n",
       "      <td>TN</td>\n",
       "      <td>0</td>\n",
       "      <td>0</td>\n",
       "      <td>0.0</td>\n",
       "    </tr>\n",
       "    <tr>\n",
       "      <th>6</th>\n",
       "      <td>TN</td>\n",
       "      <td>0</td>\n",
       "      <td>0</td>\n",
       "      <td>0.0</td>\n",
       "    </tr>\n",
       "    <tr>\n",
       "      <th>7</th>\n",
       "      <td>TN</td>\n",
       "      <td>0</td>\n",
       "      <td>0</td>\n",
       "      <td>0.0</td>\n",
       "    </tr>\n",
       "    <tr>\n",
       "      <th>8</th>\n",
       "      <td>TN</td>\n",
       "      <td>0</td>\n",
       "      <td>0</td>\n",
       "      <td>0.0</td>\n",
       "    </tr>\n",
       "    <tr>\n",
       "      <th>9</th>\n",
       "      <td>TN</td>\n",
       "      <td>0</td>\n",
       "      <td>0</td>\n",
       "      <td>0.0</td>\n",
       "    </tr>\n",
       "    <tr>\n",
       "      <th>10</th>\n",
       "      <td>TN</td>\n",
       "      <td>0</td>\n",
       "      <td>0</td>\n",
       "      <td>0.0</td>\n",
       "    </tr>\n",
       "  </tbody>\n",
       "</table>\n",
       "</div>"
      ],
      "text/plain": [
       "   Outcome Label Prediction  Membership\n",
       "0       TN     0          0         0.0\n",
       "1       TN     0          0         0.0\n",
       "2       TN     0          0         0.0\n",
       "3       TN     0          0         0.0\n",
       "4       TN     0          0         0.0\n",
       "6       TN     0          0         0.0\n",
       "7       TN     0          0         0.0\n",
       "8       TN     0          0         0.0\n",
       "9       TN     0          0         0.0\n",
       "10      TN     0          0         0.0"
      ]
     },
     "execution_count": 484,
     "metadata": {},
     "output_type": "execute_result"
    }
   ],
   "source": [
    "data[data[\"Outcome\"] == \"TN\"].head(10)"
   ]
  },
  {
   "cell_type": "code",
   "execution_count": 485,
   "metadata": {},
   "outputs": [
    {
     "data": {
      "text/html": [
       "<div>\n",
       "<style scoped>\n",
       "    .dataframe tbody tr th:only-of-type {\n",
       "        vertical-align: middle;\n",
       "    }\n",
       "\n",
       "    .dataframe tbody tr th {\n",
       "        vertical-align: top;\n",
       "    }\n",
       "\n",
       "    .dataframe thead th {\n",
       "        text-align: right;\n",
       "    }\n",
       "</style>\n",
       "<table border=\"1\" class=\"dataframe\">\n",
       "  <thead>\n",
       "    <tr style=\"text-align: right;\">\n",
       "      <th></th>\n",
       "      <th>Outcome</th>\n",
       "      <th>Label</th>\n",
       "      <th>Prediction</th>\n",
       "      <th>Membership</th>\n",
       "    </tr>\n",
       "  </thead>\n",
       "  <tbody>\n",
       "    <tr>\n",
       "      <th>5</th>\n",
       "      <td>FN</td>\n",
       "      <td>1</td>\n",
       "      <td>0</td>\n",
       "      <td>0.0</td>\n",
       "    </tr>\n",
       "    <tr>\n",
       "      <th>14</th>\n",
       "      <td>FN</td>\n",
       "      <td>1</td>\n",
       "      <td>0</td>\n",
       "      <td>0.0</td>\n",
       "    </tr>\n",
       "    <tr>\n",
       "      <th>15</th>\n",
       "      <td>FN</td>\n",
       "      <td>1</td>\n",
       "      <td>0</td>\n",
       "      <td>0.0</td>\n",
       "    </tr>\n",
       "    <tr>\n",
       "      <th>20</th>\n",
       "      <td>FN</td>\n",
       "      <td>1</td>\n",
       "      <td>0</td>\n",
       "      <td>0.0</td>\n",
       "    </tr>\n",
       "    <tr>\n",
       "      <th>33</th>\n",
       "      <td>FN</td>\n",
       "      <td>1</td>\n",
       "      <td>0</td>\n",
       "      <td>0.0</td>\n",
       "    </tr>\n",
       "    <tr>\n",
       "      <th>37</th>\n",
       "      <td>FN</td>\n",
       "      <td>1</td>\n",
       "      <td>0</td>\n",
       "      <td>0.0</td>\n",
       "    </tr>\n",
       "    <tr>\n",
       "      <th>39</th>\n",
       "      <td>FN</td>\n",
       "      <td>1</td>\n",
       "      <td>0</td>\n",
       "      <td>0.0</td>\n",
       "    </tr>\n",
       "    <tr>\n",
       "      <th>43</th>\n",
       "      <td>FN</td>\n",
       "      <td>1</td>\n",
       "      <td>0</td>\n",
       "      <td>0.0</td>\n",
       "    </tr>\n",
       "    <tr>\n",
       "      <th>47</th>\n",
       "      <td>FN</td>\n",
       "      <td>1</td>\n",
       "      <td>0</td>\n",
       "      <td>0.0</td>\n",
       "    </tr>\n",
       "    <tr>\n",
       "      <th>48</th>\n",
       "      <td>FN</td>\n",
       "      <td>1</td>\n",
       "      <td>0</td>\n",
       "      <td>0.0</td>\n",
       "    </tr>\n",
       "  </tbody>\n",
       "</table>\n",
       "</div>"
      ],
      "text/plain": [
       "   Outcome Label Prediction  Membership\n",
       "5       FN     1          0         0.0\n",
       "14      FN     1          0         0.0\n",
       "15      FN     1          0         0.0\n",
       "20      FN     1          0         0.0\n",
       "33      FN     1          0         0.0\n",
       "37      FN     1          0         0.0\n",
       "39      FN     1          0         0.0\n",
       "43      FN     1          0         0.0\n",
       "47      FN     1          0         0.0\n",
       "48      FN     1          0         0.0"
      ]
     },
     "execution_count": 485,
     "metadata": {},
     "output_type": "execute_result"
    }
   ],
   "source": [
    "data[data[\"Outcome\"] == \"FN\"].head(10)"
   ]
  },
  {
   "cell_type": "code",
   "execution_count": 486,
   "metadata": {},
   "outputs": [],
   "source": [
    "tp = data[data[\"Outcome\"] == \"TP\"][\"Membership\"]\n",
    "fp = data[data[\"Outcome\"] == \"FP\"][\"Membership\"]\n",
    "tn = data[data[\"Outcome\"] == \"TN\"][\"Membership\"]\n",
    "fn = data[data[\"Outcome\"] == \"FN\"][\"Membership\"]"
   ]
  },
  {
   "cell_type": "code",
   "execution_count": 487,
   "metadata": {},
   "outputs": [
    {
     "data": {
      "image/png": "[encoded data removed]",
      "text/plain": [
       "<Figure size 1080x504 with 1 Axes>"
      ]
     },
     "metadata": {
      "needs_background": "light"
     },
     "output_type": "display_data"
    }
   ],
   "source": [
    "plot_hist(tp)\n",
    "\n",
    "plt.title(\"True Positive\")\n",
    "plt.show()"
   ]
  },
  {
   "cell_type": "code",
   "execution_count": 488,
   "metadata": {},
   "outputs": [
    {
     "data": {
      "image/png": "[encoded data removed]",
      "text/plain": [
       "<Figure size 1080x504 with 1 Axes>"
      ]
     },
     "metadata": {
      "needs_background": "light"
     },
     "output_type": "display_data"
    }
   ],
   "source": [
    "plot_hist(fp)\n",
    "\n",
    "plt.title(\"False Positive\")\n",
    "plt.show()"
   ]
  },
  {
   "cell_type": "code",
   "execution_count": 489,
   "metadata": {},
   "outputs": [
    {
     "data": {
      "image/png": "[encoded data removed]",
      "text/plain": [
       "<Figure size 1080x504 with 1 Axes>"
      ]
     },
     "metadata": {
      "needs_background": "light"
     },
     "output_type": "display_data"
    }
   ],
   "source": [
    "plot_hist(tn)\n",
    "\n",
    "plt.title(\"True Negative\")\n",
    "plt.show()"
   ]
  },
  {
   "cell_type": "code",
   "execution_count": 490,
   "metadata": {},
   "outputs": [
    {
     "data": {
      "image/png": "[encoded data removed]",
      "text/plain": [
       "<Figure size 1080x504 with 1 Axes>"
      ]
     },
     "metadata": {
      "needs_background": "light"
     },
     "output_type": "display_data"
    }
   ],
   "source": [
    "plot_hist(fn)\n",
    "\n",
    "plt.title(\"False Negative\")\n",
    "plt.show()"
   ]
  },
  {
   "cell_type": "markdown",
   "metadata": {},
   "source": [
    "Over 500 news"
   ]
  },
  {
   "cell_type": "code",
   "execution_count": 491,
   "metadata": {},
   "outputs": [
    {
     "data": {
      "text/html": [
       "<div>\n",
       "<style scoped>\n",
       "    .dataframe tbody tr th:only-of-type {\n",
       "        vertical-align: middle;\n",
       "    }\n",
       "\n",
       "    .dataframe tbody tr th {\n",
       "        vertical-align: top;\n",
       "    }\n",
       "\n",
       "    .dataframe thead th {\n",
       "        text-align: right;\n",
       "    }\n",
       "</style>\n",
       "<table border=\"1\" class=\"dataframe\">\n",
       "  <thead>\n",
       "    <tr style=\"text-align: right;\">\n",
       "      <th></th>\n",
       "      <th>Actually fake</th>\n",
       "      <th>Actually not fake</th>\n",
       "    </tr>\n",
       "  </thead>\n",
       "  <tbody>\n",
       "    <tr>\n",
       "      <th>Classified fake</th>\n",
       "      <td>380</td>\n",
       "      <td>0</td>\n",
       "    </tr>\n",
       "    <tr>\n",
       "      <th>Classified not fake</th>\n",
       "      <td>120</td>\n",
       "      <td>0</td>\n",
       "    </tr>\n",
       "  </tbody>\n",
       "</table>\n",
       "</div>"
      ],
      "text/plain": [
       "                     Actually fake  Actually not fake\n",
       "Classified fake                380                  0\n",
       "Classified not fake            120                  0"
      ]
     },
     "execution_count": 491,
     "metadata": {},
     "output_type": "execute_result"
    }
   ],
   "source": [
    "confusion = pd.DataFrame(confusion_matrix(labels[0], [x[1] for x in predictions]), \n",
    "             index=[\"Classified fake\", \"Classified not fake\"], \n",
    "             columns=[\"Actually fake\", \"Actually not fake\"])\n",
    "confusion"
   ]
  },
  {
   "cell_type": "code",
   "execution_count": 492,
   "metadata": {},
   "outputs": [
    {
     "name": "stdout",
     "output_type": "stream",
     "text": [
      "TP:  0\n",
      "FP:  0\n",
      "TN:  380\n",
      "FN:  120\n"
     ]
    }
   ],
   "source": [
    "print(\"TP: \", len(tp))\n",
    "print(\"FP: \", len(fp))\n",
    "print(\"TN: \", len(tn))\n",
    "print(\"FN: \", len(fn))"
   ]
  },
  {
   "cell_type": "code",
   "execution_count": 493,
   "metadata": {},
   "outputs": [
    {
     "data": {
      "text/plain": [
       "500"
      ]
     },
     "execution_count": 493,
     "metadata": {},
     "output_type": "execute_result"
    }
   ],
   "source": [
    "len(tp)+len(fp)+len(tn)+len(fn)"
   ]
  },
  {
   "cell_type": "code",
   "execution_count": 494,
   "metadata": {},
   "outputs": [
    {
     "data": {
      "text/plain": [
       "(380, 120)"
      ]
     },
     "execution_count": 494,
     "metadata": {},
     "output_type": "execute_result"
    }
   ],
   "source": [
    "len(tp) + len(tn), len(fp) + len(fn)"
   ]
  },
  {
   "cell_type": "code",
   "execution_count": 495,
   "metadata": {},
   "outputs": [],
   "source": [
    "tp_string = data[data[\"Outcome\"] == \"TP\"][\"Outcome\"].values\n",
    "fp_string = data[data[\"Outcome\"] == \"FP\"][\"Outcome\"].values\n",
    "tn_string = data[data[\"Outcome\"] == \"TN\"][\"Outcome\"].values\n",
    "fn_string = data[data[\"Outcome\"] == \"FN\"][\"Outcome\"].values"
   ]
  },
  {
   "cell_type": "code",
   "execution_count": 496,
   "metadata": {},
   "outputs": [],
   "source": [
    "all_cases = []\n",
    "\n",
    "for i in tp_string:\n",
    "    all_cases.append(i)\n",
    "    \n",
    "for i in fp_string:\n",
    "    all_cases.append(i)\n",
    "    \n",
    "for i in tn_string:\n",
    "    all_cases.append(i)\n",
    "    \n",
    "for i in fn_string:\n",
    "    all_cases.append(i)"
   ]
  },
  {
   "cell_type": "code",
   "execution_count": 497,
   "metadata": {},
   "outputs": [
    {
     "data": {
      "image/png": "[encoded data removed]",
      "text/plain": [
       "<Figure size 1080x504 with 1 Axes>"
      ]
     },
     "metadata": {
      "needs_background": "light"
     },
     "output_type": "display_data"
    }
   ],
   "source": [
    "plt.figure(figsize=(15, 7))\n",
    "plt.hist(all_cases)\n",
    "plt.grid()\n",
    "plt.title(\"All cases over 500 news\")\n",
    "plt.show()"
   ]
  },
  {
   "cell_type": "code",
   "execution_count": 498,
   "metadata": {},
   "outputs": [
    {
     "data": {
      "text/plain": [
       "(count    0.0\n",
       " mean     NaN\n",
       " std      NaN\n",
       " min      NaN\n",
       " 25%      NaN\n",
       " 50%      NaN\n",
       " 75%      NaN\n",
       " max      NaN\n",
       " Name: Membership, dtype: float64,\n",
       " count    0.0\n",
       " mean     NaN\n",
       " std      NaN\n",
       " min      NaN\n",
       " 25%      NaN\n",
       " 50%      NaN\n",
       " 75%      NaN\n",
       " max      NaN\n",
       " Name: Membership, dtype: float64,\n",
       " count    380.0\n",
       " mean       0.0\n",
       " std        0.0\n",
       " min        0.0\n",
       " 25%        0.0\n",
       " 50%        0.0\n",
       " 75%        0.0\n",
       " max        0.0\n",
       " Name: Membership, dtype: float64,\n",
       " count    120.0\n",
       " mean       0.0\n",
       " std        0.0\n",
       " min        0.0\n",
       " 25%        0.0\n",
       " 50%        0.0\n",
       " 75%        0.0\n",
       " max        0.0\n",
       " Name: Membership, dtype: float64)"
      ]
     },
     "execution_count": 498,
     "metadata": {},
     "output_type": "execute_result"
    }
   ],
   "source": [
    "tp.describe(), fp.describe(), tn.describe(), fn.describe()"
   ]
  },
  {
   "cell_type": "code",
   "execution_count": 499,
   "metadata": {},
   "outputs": [
    {
     "data": {
      "text/plain": [
       "0.76"
      ]
     },
     "execution_count": 499,
     "metadata": {},
     "output_type": "execute_result"
    }
   ],
   "source": [
    "accuracy_score(labels[0], [x[1] for x in predictions])"
   ]
  },
  {
   "cell_type": "code",
   "execution_count": 500,
   "metadata": {},
   "outputs": [
    {
     "data": {
      "text/plain": [
       "0.76"
      ]
     },
     "execution_count": 500,
     "metadata": {},
     "output_type": "execute_result"
    }
   ],
   "source": [
    "(len(tp) + len(tn)) / 500"
   ]
  },
  {
   "cell_type": "markdown",
   "metadata": {},
   "source": [
    "# Baseline"
   ]
  },
  {
   "cell_type": "code",
   "execution_count": 501,
   "metadata": {},
   "outputs": [],
   "source": [
    "def my_confusion_matrix(labels, predicted_labels):\n",
    "    '''\n",
    "    true positive: predicted_labels = labels = 1\n",
    "    false positive: predicted_labels = 1 != labels = 0\n",
    "    true negative: predicted_labels = labels = 0\n",
    "    false negative: predicted_labels = 0 != labels = 1\n",
    "    '''\n",
    "\n",
    "    TP = 0\n",
    "    FP = 0\n",
    "    FN = 0\n",
    "    TN = 0\n",
    "    \n",
    "    for label, predicted_label in zip(labels, predicted_labels):\n",
    "        if predicted_label == 1: # positive\n",
    "            if predicted_label == label: # true positive\n",
    "                TP = TP + 1\n",
    "            else: # false positive\n",
    "                FP = FP + 1\n",
    "        else: # negative\n",
    "            if predicted_label == label: # true negative\n",
    "                TN = TN + 1\n",
    "            else: # false negative\n",
    "                FN = FN + 1\n",
    "            \n",
    "    return TP, FP, FN, TN\n",
    "\n",
    "def precision(TP, FP):\n",
    "    ''' true positive / (true positive + false positive)'''\n",
    "    if TP + FP == 0.0:\n",
    "        return 0.0\n",
    "    else:\n",
    "        return TP / (TP + FP)\n",
    "\n",
    "def recall(TP, FN):\n",
    "    ''' true positive / (true positive + false negative) '''\n",
    "    if TP + FN == 0.0:\n",
    "        return 0.0\n",
    "    else:\n",
    "        return TP / (TP + FN)\n",
    "\n",
    "def f_one(precision, recall):\n",
    "    ''' 2 * [(precision * recall) / (precision + recall)] '''\n",
    "    if precision + recall == 0.0:\n",
    "        return 0.0\n",
    "    else:\n",
    "        return 2 * ((precision * recall) / (precision + recall))"
   ]
  },
  {
   "cell_type": "code",
   "execution_count": 502,
   "metadata": {},
   "outputs": [
    {
     "name": "stderr",
     "output_type": "stream",
     "text": [
      "/Library/Frameworks/Python.framework/Versions/3.7/lib/python3.7/site-packages/sklearn/svm/_base.py:977: ConvergenceWarning: Liblinear failed to converge, increase the number of iterations.\n",
      "  \"the number of iterations.\", ConvergenceWarning)\n",
      "/Library/Frameworks/Python.framework/Versions/3.7/lib/python3.7/site-packages/sklearn/svm/_base.py:977: ConvergenceWarning: Liblinear failed to converge, increase the number of iterations.\n",
      "  \"the number of iterations.\", ConvergenceWarning)\n",
      "/Library/Frameworks/Python.framework/Versions/3.7/lib/python3.7/site-packages/sklearn/svm/_base.py:977: ConvergenceWarning: Liblinear failed to converge, increase the number of iterations.\n",
      "  \"the number of iterations.\", ConvergenceWarning)\n"
     ]
    },
    {
     "name": "stdout",
     "output_type": "stream",
     "text": [
      "Tree classifier:  0.648\n",
      "Neural network:  0.76\n",
      "Support vector machine:  0.7\n"
     ]
    },
    {
     "name": "stderr",
     "output_type": "stream",
     "text": [
      "/Library/Frameworks/Python.framework/Versions/3.7/lib/python3.7/site-packages/sklearn/svm/_base.py:977: ConvergenceWarning: Liblinear failed to converge, increase the number of iterations.\n",
      "  \"the number of iterations.\", ConvergenceWarning)\n",
      "/Library/Frameworks/Python.framework/Versions/3.7/lib/python3.7/site-packages/sklearn/svm/_base.py:977: ConvergenceWarning: Liblinear failed to converge, increase the number of iterations.\n",
      "  \"the number of iterations.\", ConvergenceWarning)\n"
     ]
    }
   ],
   "source": [
    "tree = DecisionTreeClassifier()\n",
    "NN = MLPClassifier(solver='lbfgs', alpha=1e-5, hidden_layer_sizes=(5, 2), random_state=1)\n",
    "SVM = svm.LinearSVC()\n",
    "\n",
    "tree_pred = []\n",
    "NN_pred = []\n",
    "SVM_pred = []\n",
    "\n",
    "tree_scores = []\n",
    "NN_scores = []\n",
    "SVM_scores = []\n",
    "\n",
    "for i in range(0,5):\n",
    "    X_train = models.folds['x train '+str(i)]\n",
    "    y_train = models.folds['y train '+str(i)]\n",
    "    X_test = models.folds['x test '+str(i)]\n",
    "    y_test = models.folds['y test '+str(i)]\n",
    "    \n",
    "    tree.fit(X_train, y_train)\n",
    "    NN.fit(X_train, y_train)\n",
    "    SVM.fit(X_train, y_train)\n",
    "    \n",
    "    tree_pred.append(tree.predict(X_test))\n",
    "    NN_pred.append(NN.predict(X_test))\n",
    "    SVM_pred.append(SVM.predict(X_test))\n",
    "    \n",
    "    tree_scores.append(tree.score(X_test, y_test))\n",
    "    NN_scores.append(NN.score(X_test, y_test))\n",
    "    SVM_scores.append(SVM.score(X_test, y_test))\n",
    "    \n",
    "print(\"Tree classifier: \", np.mean(tree_scores))\n",
    "print(\"Neural network: \", np.mean(NN_scores))\n",
    "print(\"Support vector machine: \", np.mean(SVM_scores))"
   ]
  },
  {
   "cell_type": "code",
   "execution_count": 503,
   "metadata": {},
   "outputs": [],
   "source": [
    "all_tree_predictions = []\n",
    "\n",
    "for i in tree_pred:\n",
    "    for j in i:\n",
    "        all_tree_predictions.append(j)\n",
    "        \n",
    "all_NN_predictions = []\n",
    "\n",
    "for i in NN_pred:\n",
    "    for j in i:\n",
    "        all_NN_predictions.append(j)\n",
    "        \n",
    "all_SVM_predictions = []\n",
    "\n",
    "for i in SVM_pred:\n",
    "    for j in i:\n",
    "        all_SVM_predictions.append(j)"
   ]
  },
  {
   "cell_type": "code",
   "execution_count": 504,
   "metadata": {},
   "outputs": [],
   "source": [
    "TP, FP, FN, TN = my_confusion_matrix(labels[0], all_tree_predictions)\n",
    "confusion_tree = pd.DataFrame([[TP, FP], [FN, TN]],\n",
    "             index=[\"Classified fake\", \"Classified not fake\"], \n",
    "             columns=[\"Actually fake\", \"Actually not fake\"])\n",
    "precision_tree = precision(TP, FP)\n",
    "recall_tree = recall(TP, FN)\n",
    "f1_tree = f_one(precision_tree, recall_tree)\n",
    "\n",
    "TP, FP, FN, TN = my_confusion_matrix(labels[0], all_NN_predictions)\n",
    "confusion_NN = pd.DataFrame([[TP, FP], [FN, TN]],\n",
    "             index=[\"Classified fake\", \"Classified not fake\"], \n",
    "             columns=[\"Actually fake\", \"Actually not fake\"])\n",
    "precision_NN = precision(TP, FP)\n",
    "recall_NN = recall(TP, FN)\n",
    "f1_NN = f_one(precision_NN, recall_NN)\n",
    "\n",
    "TP, FP, FN, TN = my_confusion_matrix(labels[0], all_SVM_predictions)\n",
    "confusion_SVM = pd.DataFrame([[TP, FP], [FN, TN]],\n",
    "             index=[\"Classified fake\", \"Classified not fake\"], \n",
    "             columns=[\"Actually fake\", \"Actually not fake\"])\n",
    "precision_SVM = precision(TP, FP)\n",
    "recall_SVM = recall(TP, FN)\n",
    "f1_SVM = f_one(precision_SVM, recall_SVM)"
   ]
  },
  {
   "cell_type": "code",
   "execution_count": 505,
   "metadata": {},
   "outputs": [
    {
     "data": {
      "text/html": [
       "<div>\n",
       "<style scoped>\n",
       "    .dataframe tbody tr th:only-of-type {\n",
       "        vertical-align: middle;\n",
       "    }\n",
       "\n",
       "    .dataframe tbody tr th {\n",
       "        vertical-align: top;\n",
       "    }\n",
       "\n",
       "    .dataframe thead th {\n",
       "        text-align: right;\n",
       "    }\n",
       "</style>\n",
       "<table border=\"1\" class=\"dataframe\">\n",
       "  <thead>\n",
       "    <tr style=\"text-align: right;\">\n",
       "      <th></th>\n",
       "      <th>Actually fake</th>\n",
       "      <th>Actually not fake</th>\n",
       "    </tr>\n",
       "  </thead>\n",
       "  <tbody>\n",
       "    <tr>\n",
       "      <th>Classified fake</th>\n",
       "      <td>39</td>\n",
       "      <td>95</td>\n",
       "    </tr>\n",
       "    <tr>\n",
       "      <th>Classified not fake</th>\n",
       "      <td>81</td>\n",
       "      <td>285</td>\n",
       "    </tr>\n",
       "  </tbody>\n",
       "</table>\n",
       "</div>"
      ],
      "text/plain": [
       "                     Actually fake  Actually not fake\n",
       "Classified fake                 39                 95\n",
       "Classified not fake             81                285"
      ]
     },
     "execution_count": 505,
     "metadata": {},
     "output_type": "execute_result"
    }
   ],
   "source": [
    "confusion_tree"
   ]
  },
  {
   "cell_type": "code",
   "execution_count": 506,
   "metadata": {},
   "outputs": [
    {
     "data": {
      "text/html": [
       "<div>\n",
       "<style scoped>\n",
       "    .dataframe tbody tr th:only-of-type {\n",
       "        vertical-align: middle;\n",
       "    }\n",
       "\n",
       "    .dataframe tbody tr th {\n",
       "        vertical-align: top;\n",
       "    }\n",
       "\n",
       "    .dataframe thead th {\n",
       "        text-align: right;\n",
       "    }\n",
       "</style>\n",
       "<table border=\"1\" class=\"dataframe\">\n",
       "  <thead>\n",
       "    <tr style=\"text-align: right;\">\n",
       "      <th></th>\n",
       "      <th>Actually fake</th>\n",
       "      <th>Actually not fake</th>\n",
       "    </tr>\n",
       "  </thead>\n",
       "  <tbody>\n",
       "    <tr>\n",
       "      <th>Classified fake</th>\n",
       "      <td>0</td>\n",
       "      <td>0</td>\n",
       "    </tr>\n",
       "    <tr>\n",
       "      <th>Classified not fake</th>\n",
       "      <td>120</td>\n",
       "      <td>380</td>\n",
       "    </tr>\n",
       "  </tbody>\n",
       "</table>\n",
       "</div>"
      ],
      "text/plain": [
       "                     Actually fake  Actually not fake\n",
       "Classified fake                  0                  0\n",
       "Classified not fake            120                380"
      ]
     },
     "execution_count": 506,
     "metadata": {},
     "output_type": "execute_result"
    }
   ],
   "source": [
    "confusion_NN"
   ]
  },
  {
   "cell_type": "code",
   "execution_count": 507,
   "metadata": {},
   "outputs": [
    {
     "data": {
      "text/html": [
       "<div>\n",
       "<style scoped>\n",
       "    .dataframe tbody tr th:only-of-type {\n",
       "        vertical-align: middle;\n",
       "    }\n",
       "\n",
       "    .dataframe tbody tr th {\n",
       "        vertical-align: top;\n",
       "    }\n",
       "\n",
       "    .dataframe thead th {\n",
       "        text-align: right;\n",
       "    }\n",
       "</style>\n",
       "<table border=\"1\" class=\"dataframe\">\n",
       "  <thead>\n",
       "    <tr style=\"text-align: right;\">\n",
       "      <th></th>\n",
       "      <th>Actually fake</th>\n",
       "      <th>Actually not fake</th>\n",
       "    </tr>\n",
       "  </thead>\n",
       "  <tbody>\n",
       "    <tr>\n",
       "      <th>Classified fake</th>\n",
       "      <td>17</td>\n",
       "      <td>47</td>\n",
       "    </tr>\n",
       "    <tr>\n",
       "      <th>Classified not fake</th>\n",
       "      <td>103</td>\n",
       "      <td>333</td>\n",
       "    </tr>\n",
       "  </tbody>\n",
       "</table>\n",
       "</div>"
      ],
      "text/plain": [
       "                     Actually fake  Actually not fake\n",
       "Classified fake                 17                 47\n",
       "Classified not fake            103                333"
      ]
     },
     "execution_count": 507,
     "metadata": {},
     "output_type": "execute_result"
    }
   ],
   "source": [
    "confusion_SVM"
   ]
  },
  {
   "cell_type": "code",
   "execution_count": 508,
   "metadata": {},
   "outputs": [
    {
     "data": {
      "text/html": [
       "<div>\n",
       "<style scoped>\n",
       "    .dataframe tbody tr th:only-of-type {\n",
       "        vertical-align: middle;\n",
       "    }\n",
       "\n",
       "    .dataframe tbody tr th {\n",
       "        vertical-align: top;\n",
       "    }\n",
       "\n",
       "    .dataframe thead th {\n",
       "        text-align: right;\n",
       "    }\n",
       "</style>\n",
       "<table border=\"1\" class=\"dataframe\">\n",
       "  <thead>\n",
       "    <tr style=\"text-align: right;\">\n",
       "      <th></th>\n",
       "      <th>precision</th>\n",
       "      <th>recall</th>\n",
       "      <th>f1</th>\n",
       "    </tr>\n",
       "  </thead>\n",
       "  <tbody>\n",
       "    <tr>\n",
       "      <th>tree classifier</th>\n",
       "      <td>0.291045</td>\n",
       "      <td>0.325000</td>\n",
       "      <td>0.307087</td>\n",
       "    </tr>\n",
       "    <tr>\n",
       "      <th>neural network</th>\n",
       "      <td>0.000000</td>\n",
       "      <td>0.000000</td>\n",
       "      <td>0.000000</td>\n",
       "    </tr>\n",
       "    <tr>\n",
       "      <th>svm</th>\n",
       "      <td>0.265625</td>\n",
       "      <td>0.141667</td>\n",
       "      <td>0.184783</td>\n",
       "    </tr>\n",
       "  </tbody>\n",
       "</table>\n",
       "</div>"
      ],
      "text/plain": [
       "                 precision    recall        f1\n",
       "tree classifier   0.291045  0.325000  0.307087\n",
       "neural network    0.000000  0.000000  0.000000\n",
       "svm               0.265625  0.141667  0.184783"
      ]
     },
     "execution_count": 508,
     "metadata": {},
     "output_type": "execute_result"
    }
   ],
   "source": [
    "pd.DataFrame([[precision_tree, recall_tree, f1_tree],\n",
    "              [precision_NN, recall_NN, f1_NN], \n",
    "              [precision_SVM, recall_SVM, f1_SVM]],\n",
    "              index=[\"tree classifier\", \"neural network\", \"svm\"], \n",
    "              columns=[\"precision\", \"recall\", \"f1\"])"
   ]
  },
  {
   "cell_type": "markdown",
   "metadata": {},
   "source": [
    "Here you can do a comparison with models by computing on average precision, recall and f1"
   ]
  },
  {
   "cell_type": "markdown",
   "metadata": {},
   "source": [
    "# Learning Curve"
   ]
  },
  {
   "cell_type": "code",
   "execution_count": 509,
   "metadata": {},
   "outputs": [],
   "source": [
    "from sklearn.model_selection import learning_curve\n",
    "from sklearn.model_selection import ShuffleSplit\n",
    "\n",
    "\n",
    "def plot_learning_curve(estimator, title, X, y, axes=None, ylim=None, cv=None,\n",
    "                        n_jobs=None, train_sizes=np.linspace(.001, 0.01, 10)):\n",
    "    \"\"\"\n",
    "    Generate 3 plots: the test and training learning curve, the training\n",
    "    samples vs fit times curve, the fit times vs score curve.\n",
    "\n",
    "    Parameters\n",
    "    ----------\n",
    "    estimator : object type that implements the \"fit\" and \"predict\" methods\n",
    "        An object of that type which is cloned for each validation.\n",
    "\n",
    "    title : string\n",
    "        Title for the chart.\n",
    "\n",
    "    X : array-like, shape (n_samples, n_features)\n",
    "        Training vector, where n_samples is the number of samples and\n",
    "        n_features is the number of features.\n",
    "\n",
    "    y : array-like, shape (n_samples) or (n_samples, n_features), optional\n",
    "        Target relative to X for classification or regression;\n",
    "        None for unsupervised learning.\n",
    "\n",
    "    axes : array of 3 axes, optional (default=None)\n",
    "        Axes to use for plotting the curves.\n",
    "\n",
    "    ylim : tuple, shape (ymin, ymax), optional\n",
    "        Defines minimum and maximum yvalues plotted.\n",
    "\n",
    "    cv : int, cross-validation generator or an iterable, optional\n",
    "        Determines the cross-validation splitting strategy.\n",
    "        Possible inputs for cv are:\n",
    "\n",
    "          - None, to use the default 5-fold cross-validation,\n",
    "          - integer, to specify the number of folds.\n",
    "          - :term:`CV splitter`,\n",
    "          - An iterable yielding (train, test) splits as arrays of indices.\n",
    "\n",
    "        For integer/None inputs, if ``y`` is binary or multiclass,\n",
    "        :class:`StratifiedKFold` used. If the estimator is not a classifier\n",
    "        or if ``y`` is neither binary nor multiclass, :class:`KFold` is used.\n",
    "\n",
    "        Refer :ref:`User Guide <cross_validation>` for the various\n",
    "        cross-validators that can be used here.\n",
    "\n",
    "    n_jobs : int or None, optional (default=None)\n",
    "        Number of jobs to run in parallel.\n",
    "        ``None`` means 1 unless in a :obj:`joblib.parallel_backend` context.\n",
    "        ``-1`` means using all processors. See :term:`Glossary <n_jobs>`\n",
    "        for more details.\n",
    "\n",
    "    train_sizes : array-like, shape (n_ticks,), dtype float or int\n",
    "        Relative or absolute numbers of training examples that will be used to\n",
    "        generate the learning curve. If the dtype is float, it is regarded as a\n",
    "        fraction of the maximum size of the training set (that is determined\n",
    "        by the selected validation method), i.e. it has to be within (0, 1].\n",
    "        Otherwise it is interpreted as absolute sizes of the training sets.\n",
    "        Note that for classification the number of samples usually have to\n",
    "        be big enough to contain at least one sample from each class.\n",
    "        (default: np.linspace(0.1, 1.0, 5))\n",
    "    \"\"\"\n",
    "    if axes is None:\n",
    "        _, axes = plt.subplots(1, 3, figsize=(20, 5))\n",
    "\n",
    "    axes[0].set_title(title)\n",
    "    if ylim is not None:\n",
    "        axes[0].set_ylim(*ylim)\n",
    "    axes[0].set_xlabel(\"Training examples\")\n",
    "    axes[0].set_ylabel(\"Score\")\n",
    "\n",
    "    train_sizes, train_scores, test_scores, fit_times, _ = \\\n",
    "        learning_curve(estimator, X, y, cv=cv, n_jobs=n_jobs,\n",
    "                       train_sizes=train_sizes,\n",
    "                       return_times=True)\n",
    "    train_scores_mean = np.mean(train_scores, axis=1)\n",
    "    train_scores_std = np.std(train_scores, axis=1)\n",
    "    test_scores_mean = np.mean(test_scores, axis=1)\n",
    "    test_scores_std = np.std(test_scores, axis=1)\n",
    "    fit_times_mean = np.mean(fit_times, axis=1)\n",
    "    fit_times_std = np.std(fit_times, axis=1)\n",
    "\n",
    "    # Plot learning curve\n",
    "    axes[0].grid()\n",
    "    axes[0].fill_between(train_sizes, train_scores_mean - train_scores_std,\n",
    "                         train_scores_mean + train_scores_std, alpha=0.1,\n",
    "                         color=\"r\")\n",
    "    axes[0].fill_between(train_sizes, test_scores_mean - test_scores_std,\n",
    "                         test_scores_mean + test_scores_std, alpha=0.1,\n",
    "                         color=\"g\")\n",
    "    axes[0].plot(train_sizes, train_scores_mean, 'o-', color=\"r\",\n",
    "                 label=\"Training score\")\n",
    "    axes[0].plot(train_sizes, test_scores_mean, 'o-', color=\"g\",\n",
    "                 label=\"Cross-validation score\")\n",
    "    axes[0].legend(loc=\"best\")\n",
    "\n",
    "    # Plot n_samples vs fit_times\n",
    "    axes[1].grid()\n",
    "    axes[1].plot(train_sizes, fit_times_mean, 'o-')\n",
    "    axes[1].fill_between(train_sizes, fit_times_mean - fit_times_std,\n",
    "                         fit_times_mean + fit_times_std, alpha=0.1)\n",
    "    axes[1].set_xlabel(\"Training examples\")\n",
    "    axes[1].set_ylabel(\"fit_times\")\n",
    "    axes[1].set_title(\"Scalability of the model\")\n",
    "\n",
    "    # Plot fit_time vs score\n",
    "    axes[2].grid()\n",
    "    axes[2].plot(fit_times_mean, test_scores_mean, 'o-')\n",
    "    axes[2].fill_between(fit_times_mean, test_scores_mean - test_scores_std,\n",
    "                         test_scores_mean + test_scores_std, alpha=0.1)\n",
    "    axes[2].set_xlabel(\"fit_times\")\n",
    "    axes[2].set_ylabel(\"Score\")\n",
    "    axes[2].set_title(\"Performance of the model\")\n",
    "\n",
    "    return plt"
   ]
  },
  {
   "cell_type": "code",
   "execution_count": 510,
   "metadata": {},
   "outputs": [
    {
     "data": {
      "image/png": "[encoded data removed]",
      "text/plain": [
       "<Figure size 720x1080 with 6 Axes>"
      ]
     },
     "metadata": {
      "needs_background": "light"
     },
     "output_type": "display_data"
    }
   ],
   "source": [
    "fig, axes = plt.subplots(3, 2, figsize=(10, 15))\n",
    "\n",
    "PATH_TEXTS = \"preprocessed_datasets/text/06.02.2021_21.00/final_text_dataset_7926.csv\"\n",
    "\n",
    "# data loading\n",
    "dataset = pd.read_csv(PATH_TEXTS)\n",
    "\n",
    "def simple_split(dataset):\n",
    "    X = dataset.iloc[:, 1].values  # x-component\n",
    "    y = dataset.iloc[:, 2].values  # labels\n",
    "    return X, y\n",
    "\n",
    "X, y = simple_split(dataset)\n",
    "X = [ast.literal_eval(i) for i in X]  # this is needed to parse strings\n",
    "X = np.array(X)\n",
    "\n",
    "#title = \"Learning Curves (Tree Classifier)\"\n",
    "#cv = ShuffleSplit(n_splits=10, test_size=0.2, random_state=0)\n",
    "#estimator = DecisionTreeClassifier()\n",
    "#plot_learning_curve(estimator, title, X, y, axes=axes[:, 1], ylim=(0.7, 1.01),\n",
    "#                    cv=cv, n_jobs=4)\n",
    "\n",
    "title = \"Learning Curves (Neural Network)\"\n",
    "cv = ShuffleSplit(n_splits=5, test_size=0.2, random_state=0)\n",
    "estimator = MLPClassifier(solver='lbfgs', alpha=1e-5, hidden_layer_sizes=(5, 2), random_state=1)\n",
    "plot_learning_curve(estimator, title, X, y, axes=axes[:, 1], ylim=(0.7, 1.01),\n",
    "                    cv=cv, n_jobs=4)\n",
    "\n",
    "title = \"Learning Curves (SVM)\"\n",
    "cv = ShuffleSplit(n_splits=5, test_size=0.2, random_state=0)\n",
    "estimator = svm.LinearSVC()\n",
    "plot_learning_curve(estimator, title, X, y, axes=axes[:, 0], ylim=(0.7, 1.01),\n",
    "                    cv=cv, n_jobs=4)\n",
    "\n",
    "plt.show()"
   ]
  },
  {
   "cell_type": "markdown",
   "metadata": {},
   "source": [
    "# Retrieve news texts"
   ]
  },
  {
   "cell_type": "code",
   "execution_count": 511,
   "metadata": {},
   "outputs": [],
   "source": [
    "fullname = \"preprocessed_datasets/text/06.02.2021_21.00/dataset_fake.pickle\"\n",
    "file = open(fullname, \"rb\")\n",
    "dataset_fake = pickle.load(file)\n",
    "\n",
    "fullname = \"preprocessed_datasets/text/06.02.2021_21.00/dataset_true.pickle\"\n",
    "file = open(fullname, \"rb\")\n",
    "dataset_true = pickle.load(file)"
   ]
  },
  {
   "cell_type": "code",
   "execution_count": 512,
   "metadata": {},
   "outputs": [],
   "source": [
    "folds = models.folds \n",
    "vectors = []\n",
    "vectors_labels = []\n",
    "\n",
    "for i in range(0, 5):\n",
    "    for x, label in zip(folds['x test ' + str(i)], folds['y test ' + str(i)]):\n",
    "        vectors.append(x)\n",
    "        vectors_labels.append(label)"
   ]
  },
  {
   "cell_type": "code",
   "execution_count": 513,
   "metadata": {},
   "outputs": [
    {
     "data": {
      "text/html": [
       "<div>\n",
       "<style scoped>\n",
       "    .dataframe tbody tr th:only-of-type {\n",
       "        vertical-align: middle;\n",
       "    }\n",
       "\n",
       "    .dataframe tbody tr th {\n",
       "        vertical-align: top;\n",
       "    }\n",
       "\n",
       "    .dataframe thead th {\n",
       "        text-align: right;\n",
       "    }\n",
       "</style>\n",
       "<table border=\"1\" class=\"dataframe\">\n",
       "  <thead>\n",
       "    <tr style=\"text-align: right;\">\n",
       "      <th></th>\n",
       "      <th>label</th>\n",
       "      <th>0</th>\n",
       "      <th>1</th>\n",
       "      <th>2</th>\n",
       "      <th>3</th>\n",
       "      <th>4</th>\n",
       "      <th>5</th>\n",
       "      <th>6</th>\n",
       "      <th>7</th>\n",
       "      <th>8</th>\n",
       "      <th>...</th>\n",
       "      <th>86</th>\n",
       "      <th>87</th>\n",
       "      <th>88</th>\n",
       "      <th>89</th>\n",
       "      <th>90</th>\n",
       "      <th>91</th>\n",
       "      <th>92</th>\n",
       "      <th>93</th>\n",
       "      <th>94</th>\n",
       "      <th>95</th>\n",
       "    </tr>\n",
       "  </thead>\n",
       "  <tbody>\n",
       "    <tr>\n",
       "      <th>0</th>\n",
       "      <td>0</td>\n",
       "      <td>2.838177</td>\n",
       "      <td>2.161265</td>\n",
       "      <td>-4.295609</td>\n",
       "      <td>-2.050986</td>\n",
       "      <td>-0.359575</td>\n",
       "      <td>0.251383</td>\n",
       "      <td>-0.437301</td>\n",
       "      <td>-0.475514</td>\n",
       "      <td>1.222530</td>\n",
       "      <td>...</td>\n",
       "      <td>-1.065435</td>\n",
       "      <td>1.300702</td>\n",
       "      <td>-2.016820</td>\n",
       "      <td>-0.943670</td>\n",
       "      <td>-2.213688</td>\n",
       "      <td>-1.947172</td>\n",
       "      <td>1.565527</td>\n",
       "      <td>-1.509673</td>\n",
       "      <td>-1.895585</td>\n",
       "      <td>-1.609900</td>\n",
       "    </tr>\n",
       "    <tr>\n",
       "      <th>1</th>\n",
       "      <td>0</td>\n",
       "      <td>3.476033</td>\n",
       "      <td>1.713293</td>\n",
       "      <td>-5.187519</td>\n",
       "      <td>-1.646218</td>\n",
       "      <td>-1.050963</td>\n",
       "      <td>1.301940</td>\n",
       "      <td>-0.379983</td>\n",
       "      <td>-1.586931</td>\n",
       "      <td>1.905065</td>\n",
       "      <td>...</td>\n",
       "      <td>-3.469457</td>\n",
       "      <td>0.791135</td>\n",
       "      <td>-1.424525</td>\n",
       "      <td>-1.051719</td>\n",
       "      <td>-2.673661</td>\n",
       "      <td>-1.479506</td>\n",
       "      <td>1.526767</td>\n",
       "      <td>-0.500571</td>\n",
       "      <td>-0.489055</td>\n",
       "      <td>-1.542755</td>\n",
       "    </tr>\n",
       "    <tr>\n",
       "      <th>2</th>\n",
       "      <td>0</td>\n",
       "      <td>4.019837</td>\n",
       "      <td>2.525969</td>\n",
       "      <td>-4.627111</td>\n",
       "      <td>-1.894266</td>\n",
       "      <td>-0.815918</td>\n",
       "      <td>0.659413</td>\n",
       "      <td>-0.999317</td>\n",
       "      <td>-0.244538</td>\n",
       "      <td>1.679674</td>\n",
       "      <td>...</td>\n",
       "      <td>1.100647</td>\n",
       "      <td>1.542013</td>\n",
       "      <td>-2.083758</td>\n",
       "      <td>-1.805543</td>\n",
       "      <td>-3.361310</td>\n",
       "      <td>-2.466932</td>\n",
       "      <td>2.573271</td>\n",
       "      <td>-0.327987</td>\n",
       "      <td>-0.309888</td>\n",
       "      <td>-1.927905</td>\n",
       "    </tr>\n",
       "    <tr>\n",
       "      <th>3</th>\n",
       "      <td>0</td>\n",
       "      <td>3.182411</td>\n",
       "      <td>1.612608</td>\n",
       "      <td>-5.454437</td>\n",
       "      <td>-0.970311</td>\n",
       "      <td>-0.143030</td>\n",
       "      <td>0.618373</td>\n",
       "      <td>-0.938300</td>\n",
       "      <td>-1.588250</td>\n",
       "      <td>2.479841</td>\n",
       "      <td>...</td>\n",
       "      <td>-2.165766</td>\n",
       "      <td>1.525870</td>\n",
       "      <td>-2.709574</td>\n",
       "      <td>-1.573586</td>\n",
       "      <td>-1.616158</td>\n",
       "      <td>-2.068229</td>\n",
       "      <td>0.857073</td>\n",
       "      <td>-1.514698</td>\n",
       "      <td>-0.847004</td>\n",
       "      <td>-1.014583</td>\n",
       "    </tr>\n",
       "    <tr>\n",
       "      <th>4</th>\n",
       "      <td>0</td>\n",
       "      <td>2.801558</td>\n",
       "      <td>1.047769</td>\n",
       "      <td>-4.213898</td>\n",
       "      <td>-1.041920</td>\n",
       "      <td>0.057309</td>\n",
       "      <td>0.492733</td>\n",
       "      <td>-1.275173</td>\n",
       "      <td>-1.163830</td>\n",
       "      <td>0.929965</td>\n",
       "      <td>...</td>\n",
       "      <td>0.253834</td>\n",
       "      <td>-0.175657</td>\n",
       "      <td>-2.288065</td>\n",
       "      <td>-0.363895</td>\n",
       "      <td>-2.704622</td>\n",
       "      <td>-3.035097</td>\n",
       "      <td>3.392345</td>\n",
       "      <td>0.014499</td>\n",
       "      <td>-1.402232</td>\n",
       "      <td>-0.623973</td>\n",
       "    </tr>\n",
       "    <tr>\n",
       "      <th>...</th>\n",
       "      <td>...</td>\n",
       "      <td>...</td>\n",
       "      <td>...</td>\n",
       "      <td>...</td>\n",
       "      <td>...</td>\n",
       "      <td>...</td>\n",
       "      <td>...</td>\n",
       "      <td>...</td>\n",
       "      <td>...</td>\n",
       "      <td>...</td>\n",
       "      <td>...</td>\n",
       "      <td>...</td>\n",
       "      <td>...</td>\n",
       "      <td>...</td>\n",
       "      <td>...</td>\n",
       "      <td>...</td>\n",
       "      <td>...</td>\n",
       "      <td>...</td>\n",
       "      <td>...</td>\n",
       "      <td>...</td>\n",
       "      <td>...</td>\n",
       "    </tr>\n",
       "    <tr>\n",
       "      <th>495</th>\n",
       "      <td>1</td>\n",
       "      <td>2.951402</td>\n",
       "      <td>1.570637</td>\n",
       "      <td>-4.341742</td>\n",
       "      <td>0.194535</td>\n",
       "      <td>0.034229</td>\n",
       "      <td>0.425184</td>\n",
       "      <td>-1.502572</td>\n",
       "      <td>-2.882464</td>\n",
       "      <td>0.862991</td>\n",
       "      <td>...</td>\n",
       "      <td>-2.903827</td>\n",
       "      <td>-1.475853</td>\n",
       "      <td>-0.286454</td>\n",
       "      <td>-0.675339</td>\n",
       "      <td>-2.304076</td>\n",
       "      <td>-2.264226</td>\n",
       "      <td>2.499698</td>\n",
       "      <td>-1.405622</td>\n",
       "      <td>-1.051883</td>\n",
       "      <td>-0.592143</td>\n",
       "    </tr>\n",
       "    <tr>\n",
       "      <th>496</th>\n",
       "      <td>0</td>\n",
       "      <td>4.396272</td>\n",
       "      <td>2.156391</td>\n",
       "      <td>-5.220315</td>\n",
       "      <td>-1.482849</td>\n",
       "      <td>-0.548280</td>\n",
       "      <td>0.210076</td>\n",
       "      <td>-0.353983</td>\n",
       "      <td>-1.240121</td>\n",
       "      <td>2.051674</td>\n",
       "      <td>...</td>\n",
       "      <td>-1.240061</td>\n",
       "      <td>2.041746</td>\n",
       "      <td>-2.850669</td>\n",
       "      <td>-0.835194</td>\n",
       "      <td>-2.797772</td>\n",
       "      <td>-2.441526</td>\n",
       "      <td>1.008144</td>\n",
       "      <td>-0.812976</td>\n",
       "      <td>-0.851529</td>\n",
       "      <td>-1.867309</td>\n",
       "    </tr>\n",
       "    <tr>\n",
       "      <th>497</th>\n",
       "      <td>0</td>\n",
       "      <td>5.054568</td>\n",
       "      <td>3.374618</td>\n",
       "      <td>-4.452071</td>\n",
       "      <td>-2.250363</td>\n",
       "      <td>-0.935921</td>\n",
       "      <td>0.461672</td>\n",
       "      <td>-0.043604</td>\n",
       "      <td>-1.236225</td>\n",
       "      <td>1.449689</td>\n",
       "      <td>...</td>\n",
       "      <td>-0.995538</td>\n",
       "      <td>3.114815</td>\n",
       "      <td>-1.519683</td>\n",
       "      <td>-0.783855</td>\n",
       "      <td>-1.566298</td>\n",
       "      <td>-1.448702</td>\n",
       "      <td>0.284404</td>\n",
       "      <td>-0.799682</td>\n",
       "      <td>-1.768910</td>\n",
       "      <td>-2.676155</td>\n",
       "    </tr>\n",
       "    <tr>\n",
       "      <th>498</th>\n",
       "      <td>1</td>\n",
       "      <td>4.216773</td>\n",
       "      <td>3.174612</td>\n",
       "      <td>-5.093529</td>\n",
       "      <td>-2.978533</td>\n",
       "      <td>-0.234530</td>\n",
       "      <td>0.565240</td>\n",
       "      <td>-0.145474</td>\n",
       "      <td>-0.890021</td>\n",
       "      <td>0.847455</td>\n",
       "      <td>...</td>\n",
       "      <td>-1.193763</td>\n",
       "      <td>3.234140</td>\n",
       "      <td>-1.607710</td>\n",
       "      <td>-0.417481</td>\n",
       "      <td>-1.694281</td>\n",
       "      <td>-1.466824</td>\n",
       "      <td>1.068625</td>\n",
       "      <td>-0.326673</td>\n",
       "      <td>-1.742865</td>\n",
       "      <td>-2.184502</td>\n",
       "    </tr>\n",
       "    <tr>\n",
       "      <th>499</th>\n",
       "      <td>0</td>\n",
       "      <td>4.119267</td>\n",
       "      <td>3.056037</td>\n",
       "      <td>-3.673943</td>\n",
       "      <td>-0.836779</td>\n",
       "      <td>-0.967070</td>\n",
       "      <td>-0.040728</td>\n",
       "      <td>-0.327729</td>\n",
       "      <td>-2.439366</td>\n",
       "      <td>-0.068292</td>\n",
       "      <td>...</td>\n",
       "      <td>-0.216824</td>\n",
       "      <td>0.995660</td>\n",
       "      <td>-1.627307</td>\n",
       "      <td>-0.644105</td>\n",
       "      <td>-2.020031</td>\n",
       "      <td>-1.281550</td>\n",
       "      <td>0.546903</td>\n",
       "      <td>-1.643275</td>\n",
       "      <td>-2.199885</td>\n",
       "      <td>-2.025814</td>\n",
       "    </tr>\n",
       "  </tbody>\n",
       "</table>\n",
       "<p>500 rows × 97 columns</p>\n",
       "</div>"
      ],
      "text/plain": [
       "     label         0         1         2         3         4         5  \\\n",
       "0        0  2.838177  2.161265 -4.295609 -2.050986 -0.359575  0.251383   \n",
       "1        0  3.476033  1.713293 -5.187519 -1.646218 -1.050963  1.301940   \n",
       "2        0  4.019837  2.525969 -4.627111 -1.894266 -0.815918  0.659413   \n",
       "3        0  3.182411  1.612608 -5.454437 -0.970311 -0.143030  0.618373   \n",
       "4        0  2.801558  1.047769 -4.213898 -1.041920  0.057309  0.492733   \n",
       "..     ...       ...       ...       ...       ...       ...       ...   \n",
       "495      1  2.951402  1.570637 -4.341742  0.194535  0.034229  0.425184   \n",
       "496      0  4.396272  2.156391 -5.220315 -1.482849 -0.548280  0.210076   \n",
       "497      0  5.054568  3.374618 -4.452071 -2.250363 -0.935921  0.461672   \n",
       "498      1  4.216773  3.174612 -5.093529 -2.978533 -0.234530  0.565240   \n",
       "499      0  4.119267  3.056037 -3.673943 -0.836779 -0.967070 -0.040728   \n",
       "\n",
       "            6         7         8  ...        86        87        88  \\\n",
       "0   -0.437301 -0.475514  1.222530  ... -1.065435  1.300702 -2.016820   \n",
       "1   -0.379983 -1.586931  1.905065  ... -3.469457  0.791135 -1.424525   \n",
       "2   -0.999317 -0.244538  1.679674  ...  1.100647  1.542013 -2.083758   \n",
       "3   -0.938300 -1.588250  2.479841  ... -2.165766  1.525870 -2.709574   \n",
       "4   -1.275173 -1.163830  0.929965  ...  0.253834 -0.175657 -2.288065   \n",
       "..        ...       ...       ...  ...       ...       ...       ...   \n",
       "495 -1.502572 -2.882464  0.862991  ... -2.903827 -1.475853 -0.286454   \n",
       "496 -0.353983 -1.240121  2.051674  ... -1.240061  2.041746 -2.850669   \n",
       "497 -0.043604 -1.236225  1.449689  ... -0.995538  3.114815 -1.519683   \n",
       "498 -0.145474 -0.890021  0.847455  ... -1.193763  3.234140 -1.607710   \n",
       "499 -0.327729 -2.439366 -0.068292  ... -0.216824  0.995660 -1.627307   \n",
       "\n",
       "           89        90        91        92        93        94        95  \n",
       "0   -0.943670 -2.213688 -1.947172  1.565527 -1.509673 -1.895585 -1.609900  \n",
       "1   -1.051719 -2.673661 -1.479506  1.526767 -0.500571 -0.489055 -1.542755  \n",
       "2   -1.805543 -3.361310 -2.466932  2.573271 -0.327987 -0.309888 -1.927905  \n",
       "3   -1.573586 -1.616158 -2.068229  0.857073 -1.514698 -0.847004 -1.014583  \n",
       "4   -0.363895 -2.704622 -3.035097  3.392345  0.014499 -1.402232 -0.623973  \n",
       "..        ...       ...       ...       ...       ...       ...       ...  \n",
       "495 -0.675339 -2.304076 -2.264226  2.499698 -1.405622 -1.051883 -0.592143  \n",
       "496 -0.835194 -2.797772 -2.441526  1.008144 -0.812976 -0.851529 -1.867309  \n",
       "497 -0.783855 -1.566298 -1.448702  0.284404 -0.799682 -1.768910 -2.676155  \n",
       "498 -0.417481 -1.694281 -1.466824  1.068625 -0.326673 -1.742865 -2.184502  \n",
       "499 -0.644105 -2.020031 -1.281550  0.546903 -1.643275 -2.199885 -2.025814  \n",
       "\n",
       "[500 rows x 97 columns]"
      ]
     },
     "execution_count": 513,
     "metadata": {},
     "output_type": "execute_result"
    }
   ],
   "source": [
    "sample = pd.DataFrame(vectors)\n",
    "sample.insert(0, 'label', pd.Series(vectors_labels))\n",
    "sample"
   ]
  },
  {
   "cell_type": "code",
   "execution_count": 514,
   "metadata": {},
   "outputs": [
    {
     "data": {
      "text/html": [
       "<div>\n",
       "<style scoped>\n",
       "    .dataframe tbody tr th:only-of-type {\n",
       "        vertical-align: middle;\n",
       "    }\n",
       "\n",
       "    .dataframe tbody tr th {\n",
       "        vertical-align: top;\n",
       "    }\n",
       "\n",
       "    .dataframe thead th {\n",
       "        text-align: right;\n",
       "    }\n",
       "</style>\n",
       "<table border=\"1\" class=\"dataframe\">\n",
       "  <thead>\n",
       "    <tr style=\"text-align: right;\">\n",
       "      <th></th>\n",
       "      <th>label</th>\n",
       "      <th>0</th>\n",
       "      <th>1</th>\n",
       "      <th>2</th>\n",
       "      <th>3</th>\n",
       "      <th>4</th>\n",
       "      <th>5</th>\n",
       "      <th>6</th>\n",
       "      <th>7</th>\n",
       "      <th>8</th>\n",
       "      <th>...</th>\n",
       "      <th>86</th>\n",
       "      <th>87</th>\n",
       "      <th>88</th>\n",
       "      <th>89</th>\n",
       "      <th>90</th>\n",
       "      <th>91</th>\n",
       "      <th>92</th>\n",
       "      <th>93</th>\n",
       "      <th>94</th>\n",
       "      <th>95</th>\n",
       "    </tr>\n",
       "  </thead>\n",
       "  <tbody>\n",
       "  </tbody>\n",
       "</table>\n",
       "<p>0 rows × 97 columns</p>\n",
       "</div>"
      ],
      "text/plain": [
       "Empty DataFrame\n",
       "Columns: [label, 0, 1, 2, 3, 4, 5, 6, 7, 8, 9, 10, 11, 12, 13, 14, 15, 16, 17, 18, 19, 20, 21, 22, 23, 24, 25, 26, 27, 28, 29, 30, 31, 32, 33, 34, 35, 36, 37, 38, 39, 40, 41, 42, 43, 44, 45, 46, 47, 48, 49, 50, 51, 52, 53, 54, 55, 56, 57, 58, 59, 60, 61, 62, 63, 64, 65, 66, 67, 68, 69, 70, 71, 72, 73, 74, 75, 76, 77, 78, 79, 80, 81, 82, 83, 84, 85, 86, 87, 88, 89, 90, 91, 92, 93, 94, 95]\n",
       "Index: []\n",
       "\n",
       "[0 rows x 97 columns]"
      ]
     },
     "execution_count": 514,
     "metadata": {},
     "output_type": "execute_result"
    }
   ],
   "source": [
    "sample.iloc[[i for i in interval_ids]]"
   ]
  },
  {
   "cell_type": "markdown",
   "metadata": {},
   "source": [
    "## Indecision cases"
   ]
  },
  {
   "cell_type": "code",
   "execution_count": 515,
   "metadata": {},
   "outputs": [],
   "source": [
    "# this code is necessary in order to transform ids in (0, 499) to the original ones in (0, 38591)\n",
    "# and then do the research in the preprocessed dataset with ids\n",
    "# the alternative method was to do the research directly in the dataset \n",
    "# with vectors but this has much more computational cost\n",
    "\n",
    "interval_sample = sample.iloc[[i for i in interval_ids]]\n",
    "lookup = models.lookup\n",
    "interval_original_ids = []\n",
    "interval_original_labels = []\n",
    "\n",
    "for index, x in interval_sample.loc[:, interval_sample.columns != 'label'].iterrows():\n",
    "    lookup_id = lookup[str(x.values)]['id']\n",
    "    lookup_label = lookup[str(x.values)]['label']\n",
    "    interval_original_ids.append(lookup_id) # original ids of news extracted in this interval\n",
    "    interval_original_labels.append(lookup_label) # original labels of news extracted in this interval"
   ]
  },
  {
   "cell_type": "code",
   "execution_count": 516,
   "metadata": {},
   "outputs": [],
   "source": [
    "final_ids = []\n",
    "\n",
    "for i in interval_original_ids:\n",
    "    if i in dataset[\"index\"]:\n",
    "        final_id = dataset.index[dataset[\"index\"] == i][0]\n",
    "        final_ids.append(final_id)"
   ]
  },
  {
   "cell_type": "code",
   "execution_count": 517,
   "metadata": {},
   "outputs": [
    {
     "data": {
      "text/html": [
       "<div>\n",
       "<style scoped>\n",
       "    .dataframe tbody tr th:only-of-type {\n",
       "        vertical-align: middle;\n",
       "    }\n",
       "\n",
       "    .dataframe tbody tr th {\n",
       "        vertical-align: top;\n",
       "    }\n",
       "\n",
       "    .dataframe thead th {\n",
       "        text-align: right;\n",
       "    }\n",
       "</style>\n",
       "<table border=\"1\" class=\"dataframe\">\n",
       "  <thead>\n",
       "    <tr style=\"text-align: right;\">\n",
       "      <th></th>\n",
       "      <th>index</th>\n",
       "      <th>text</th>\n",
       "      <th>label</th>\n",
       "    </tr>\n",
       "  </thead>\n",
       "  <tbody>\n",
       "  </tbody>\n",
       "</table>\n",
       "</div>"
      ],
      "text/plain": [
       "Empty DataFrame\n",
       "Columns: [index, text, label]\n",
       "Index: []"
      ]
     },
     "execution_count": 517,
     "metadata": {},
     "output_type": "execute_result"
    }
   ],
   "source": [
    "data_interval = dataset.loc[[i for i in final_ids]]\n",
    "data_interval"
   ]
  },
  {
   "cell_type": "code",
   "execution_count": 518,
   "metadata": {},
   "outputs": [],
   "source": [
    "data_interval[\"text\"] = data_interval[\"text\"].apply(lambda s : ast.literal_eval(s))"
   ]
  },
  {
   "cell_type": "code",
   "execution_count": 519,
   "metadata": {
    "scrolled": true
   },
   "outputs": [],
   "source": [
    "ground_truth_interval = data_interval[\"label\"]"
   ]
  },
  {
   "cell_type": "code",
   "execution_count": 520,
   "metadata": {},
   "outputs": [
    {
     "data": {
      "text/plain": [
       "Series([], Name: label, dtype: int64)"
      ]
     },
     "execution_count": 520,
     "metadata": {},
     "output_type": "execute_result"
    }
   ],
   "source": [
    "ground_truth_interval[:10]"
   ]
  },
  {
   "cell_type": "code",
   "execution_count": 521,
   "metadata": {},
   "outputs": [
    {
     "data": {
      "text/html": [
       "<div>\n",
       "<style scoped>\n",
       "    .dataframe tbody tr th:only-of-type {\n",
       "        vertical-align: middle;\n",
       "    }\n",
       "\n",
       "    .dataframe tbody tr th {\n",
       "        vertical-align: top;\n",
       "    }\n",
       "\n",
       "    .dataframe thead th {\n",
       "        text-align: right;\n",
       "    }\n",
       "</style>\n",
       "<table border=\"1\" class=\"dataframe\">\n",
       "  <thead>\n",
       "    <tr style=\"text-align: right;\">\n",
       "      <th></th>\n",
       "      <th>Actually fake</th>\n",
       "      <th>Actually not fake</th>\n",
       "    </tr>\n",
       "  </thead>\n",
       "  <tbody>\n",
       "    <tr>\n",
       "      <th>Classified fake</th>\n",
       "      <td>0</td>\n",
       "      <td>0</td>\n",
       "    </tr>\n",
       "    <tr>\n",
       "      <th>Classified not fake</th>\n",
       "      <td>0</td>\n",
       "      <td>0</td>\n",
       "    </tr>\n",
       "  </tbody>\n",
       "</table>\n",
       "</div>"
      ],
      "text/plain": [
       "                     Actually fake  Actually not fake\n",
       "Classified fake                  0                  0\n",
       "Classified not fake              0                  0"
      ]
     },
     "execution_count": 521,
     "metadata": {},
     "output_type": "execute_result"
    }
   ],
   "source": [
    "TP, FP, FN, TN = my_confusion_matrix(ground_truth_interval, [1 if x >= 0.4 else 0 for index, x in interval])\n",
    "confusion_interval = pd.DataFrame([[TP, FP], [FN, TN]],\n",
    "             index=[\"Classified fake\", \"Classified not fake\"], \n",
    "             columns=[\"Actually fake\", \"Actually not fake\"])\n",
    "confusion_interval"
   ]
  },
  {
   "cell_type": "markdown",
   "metadata": {},
   "source": [
    "We confirmed the consistence of our data, now we can safely use the vector and go on with the baseline"
   ]
  },
  {
   "cell_type": "code",
   "execution_count": 522,
   "metadata": {},
   "outputs": [],
   "source": [
    "tree_predictions = []\n",
    "NN_predictions = []\n",
    "SVM_predictions = []\n",
    "\n",
    "for test_data in data_interval[\"text\"]:\n",
    "    test_data = np.array(test_data).reshape(1, -1)\n",
    "    tree_predictions.append(tree.predict(test_data))\n",
    "    NN_predictions.append(NN.predict(test_data))\n",
    "    SVM_predictions.append(SVM.predict(test_data))"
   ]
  },
  {
   "cell_type": "code",
   "execution_count": 523,
   "metadata": {},
   "outputs": [
    {
     "data": {
      "text/plain": [
       "([], [], [])"
      ]
     },
     "execution_count": 523,
     "metadata": {},
     "output_type": "execute_result"
    }
   ],
   "source": [
    "[x[0] for x in tree_predictions][:10], [x[0] for x in NN_predictions][:10], [x[0] for x in SVM_predictions][:10]"
   ]
  },
  {
   "cell_type": "code",
   "execution_count": 524,
   "metadata": {},
   "outputs": [],
   "source": [
    "TP, FP, FN, TN = my_confusion_matrix(ground_truth_interval, [x[0] for x in tree_predictions])\n",
    "confusion_tree = pd.DataFrame([[TP, FP], [FN, TN]],\n",
    "             index=[\"Classified fake\", \"Classified not fake\"], \n",
    "             columns=[\"Actually fake\", \"Actually not fake\"])\n",
    "precision_tree = precision(TP, FP)\n",
    "recall_tree = recall(TP, FN)\n",
    "f1_tree = f_one(precision_tree, recall_tree)\n",
    "\n",
    "TP, FP, FN, TN = my_confusion_matrix(ground_truth_interval, [x[0] for x in NN_predictions])\n",
    "confusion_NN = pd.DataFrame([[TP, FP], [FN, TN]],\n",
    "             index=[\"Classified fake\", \"Classified not fake\"], \n",
    "             columns=[\"Actually fake\", \"Actually not fake\"])\n",
    "precision_NN = precision(TP, FP)\n",
    "recall_NN = recall(TP, FN)\n",
    "f1_NN = f_one(precision_NN, recall_NN)\n",
    "\n",
    "TP, FP, FN, TN = my_confusion_matrix(ground_truth_interval, [x[0] for x in SVM_predictions])\n",
    "confusion_SVM = pd.DataFrame([[TP, FP], [FN, TN]],\n",
    "             index=[\"Classified fake\", \"Classified not fake\"], \n",
    "             columns=[\"Actually fake\", \"Actually not fake\"])\n",
    "precision_SVM = precision(TP, FP)\n",
    "recall_SVM = recall(TP, FN)\n",
    "f1_SVM = f_one(precision_SVM, recall_SVM)"
   ]
  },
  {
   "cell_type": "code",
   "execution_count": 525,
   "metadata": {
    "scrolled": true
   },
   "outputs": [
    {
     "data": {
      "text/html": [
       "<div>\n",
       "<style scoped>\n",
       "    .dataframe tbody tr th:only-of-type {\n",
       "        vertical-align: middle;\n",
       "    }\n",
       "\n",
       "    .dataframe tbody tr th {\n",
       "        vertical-align: top;\n",
       "    }\n",
       "\n",
       "    .dataframe thead th {\n",
       "        text-align: right;\n",
       "    }\n",
       "</style>\n",
       "<table border=\"1\" class=\"dataframe\">\n",
       "  <thead>\n",
       "    <tr style=\"text-align: right;\">\n",
       "      <th></th>\n",
       "      <th>Actually fake</th>\n",
       "      <th>Actually not fake</th>\n",
       "    </tr>\n",
       "  </thead>\n",
       "  <tbody>\n",
       "    <tr>\n",
       "      <th>Classified fake</th>\n",
       "      <td>0</td>\n",
       "      <td>0</td>\n",
       "    </tr>\n",
       "    <tr>\n",
       "      <th>Classified not fake</th>\n",
       "      <td>0</td>\n",
       "      <td>0</td>\n",
       "    </tr>\n",
       "  </tbody>\n",
       "</table>\n",
       "</div>"
      ],
      "text/plain": [
       "                     Actually fake  Actually not fake\n",
       "Classified fake                  0                  0\n",
       "Classified not fake              0                  0"
      ]
     },
     "execution_count": 525,
     "metadata": {},
     "output_type": "execute_result"
    }
   ],
   "source": [
    "confusion_tree"
   ]
  },
  {
   "cell_type": "code",
   "execution_count": 526,
   "metadata": {
    "scrolled": true
   },
   "outputs": [
    {
     "data": {
      "text/html": [
       "<div>\n",
       "<style scoped>\n",
       "    .dataframe tbody tr th:only-of-type {\n",
       "        vertical-align: middle;\n",
       "    }\n",
       "\n",
       "    .dataframe tbody tr th {\n",
       "        vertical-align: top;\n",
       "    }\n",
       "\n",
       "    .dataframe thead th {\n",
       "        text-align: right;\n",
       "    }\n",
       "</style>\n",
       "<table border=\"1\" class=\"dataframe\">\n",
       "  <thead>\n",
       "    <tr style=\"text-align: right;\">\n",
       "      <th></th>\n",
       "      <th>Actually fake</th>\n",
       "      <th>Actually not fake</th>\n",
       "    </tr>\n",
       "  </thead>\n",
       "  <tbody>\n",
       "    <tr>\n",
       "      <th>Classified fake</th>\n",
       "      <td>0</td>\n",
       "      <td>0</td>\n",
       "    </tr>\n",
       "    <tr>\n",
       "      <th>Classified not fake</th>\n",
       "      <td>0</td>\n",
       "      <td>0</td>\n",
       "    </tr>\n",
       "  </tbody>\n",
       "</table>\n",
       "</div>"
      ],
      "text/plain": [
       "                     Actually fake  Actually not fake\n",
       "Classified fake                  0                  0\n",
       "Classified not fake              0                  0"
      ]
     },
     "execution_count": 526,
     "metadata": {},
     "output_type": "execute_result"
    }
   ],
   "source": [
    "confusion_NN"
   ]
  },
  {
   "cell_type": "code",
   "execution_count": 527,
   "metadata": {
    "scrolled": true
   },
   "outputs": [
    {
     "data": {
      "text/html": [
       "<div>\n",
       "<style scoped>\n",
       "    .dataframe tbody tr th:only-of-type {\n",
       "        vertical-align: middle;\n",
       "    }\n",
       "\n",
       "    .dataframe tbody tr th {\n",
       "        vertical-align: top;\n",
       "    }\n",
       "\n",
       "    .dataframe thead th {\n",
       "        text-align: right;\n",
       "    }\n",
       "</style>\n",
       "<table border=\"1\" class=\"dataframe\">\n",
       "  <thead>\n",
       "    <tr style=\"text-align: right;\">\n",
       "      <th></th>\n",
       "      <th>Actually fake</th>\n",
       "      <th>Actually not fake</th>\n",
       "    </tr>\n",
       "  </thead>\n",
       "  <tbody>\n",
       "    <tr>\n",
       "      <th>Classified fake</th>\n",
       "      <td>0</td>\n",
       "      <td>0</td>\n",
       "    </tr>\n",
       "    <tr>\n",
       "      <th>Classified not fake</th>\n",
       "      <td>0</td>\n",
       "      <td>0</td>\n",
       "    </tr>\n",
       "  </tbody>\n",
       "</table>\n",
       "</div>"
      ],
      "text/plain": [
       "                     Actually fake  Actually not fake\n",
       "Classified fake                  0                  0\n",
       "Classified not fake              0                  0"
      ]
     },
     "execution_count": 527,
     "metadata": {},
     "output_type": "execute_result"
    }
   ],
   "source": [
    "confusion_SVM"
   ]
  },
  {
   "cell_type": "code",
   "execution_count": 528,
   "metadata": {
    "scrolled": true
   },
   "outputs": [
    {
     "data": {
      "text/html": [
       "<div>\n",
       "<style scoped>\n",
       "    .dataframe tbody tr th:only-of-type {\n",
       "        vertical-align: middle;\n",
       "    }\n",
       "\n",
       "    .dataframe tbody tr th {\n",
       "        vertical-align: top;\n",
       "    }\n",
       "\n",
       "    .dataframe thead th {\n",
       "        text-align: right;\n",
       "    }\n",
       "</style>\n",
       "<table border=\"1\" class=\"dataframe\">\n",
       "  <thead>\n",
       "    <tr style=\"text-align: right;\">\n",
       "      <th></th>\n",
       "      <th>precision</th>\n",
       "      <th>recall</th>\n",
       "      <th>f1</th>\n",
       "    </tr>\n",
       "  </thead>\n",
       "  <tbody>\n",
       "    <tr>\n",
       "      <th>tree classifier</th>\n",
       "      <td>0.0</td>\n",
       "      <td>0.0</td>\n",
       "      <td>0.0</td>\n",
       "    </tr>\n",
       "    <tr>\n",
       "      <th>neural network</th>\n",
       "      <td>0.0</td>\n",
       "      <td>0.0</td>\n",
       "      <td>0.0</td>\n",
       "    </tr>\n",
       "    <tr>\n",
       "      <th>svm</th>\n",
       "      <td>0.0</td>\n",
       "      <td>0.0</td>\n",
       "      <td>0.0</td>\n",
       "    </tr>\n",
       "  </tbody>\n",
       "</table>\n",
       "</div>"
      ],
      "text/plain": [
       "                 precision  recall   f1\n",
       "tree classifier        0.0     0.0  0.0\n",
       "neural network         0.0     0.0  0.0\n",
       "svm                    0.0     0.0  0.0"
      ]
     },
     "execution_count": 528,
     "metadata": {},
     "output_type": "execute_result"
    }
   ],
   "source": [
    "pd.DataFrame([[precision_tree, recall_tree, f1_tree],\n",
    "              [precision_NN, recall_NN, f1_NN], \n",
    "              [precision_SVM, recall_SVM, f1_SVM]],\n",
    "              index=[\"tree classifier\", \"neural network\", \"svm\"], \n",
    "              columns=[\"precision\", \"recall\", \"f1\"])"
   ]
  },
  {
   "cell_type": "code",
   "execution_count": 529,
   "metadata": {},
   "outputs": [
    {
     "data": {
      "image/png": "[encoded data removed]",
      "text/plain": [
       "<Figure size 1080x504 with 1 Axes>"
      ]
     },
     "metadata": {
      "needs_background": "light"
     },
     "output_type": "display_data"
    }
   ],
   "source": [
    "plot_hist([x[0] for x in tree_predictions])\n",
    "plt.title(\"Indecision cases with tree classifier\")\n",
    "plt.show()"
   ]
  },
  {
   "cell_type": "code",
   "execution_count": 530,
   "metadata": {},
   "outputs": [
    {
     "data": {
      "image/png": "[encoded data removed]",
      "text/plain": [
       "<Figure size 1080x504 with 1 Axes>"
      ]
     },
     "metadata": {
      "needs_background": "light"
     },
     "output_type": "display_data"
    }
   ],
   "source": [
    "plot_hist([x[0] for x in NN_predictions])\n",
    "\n",
    "plt.title(\"Indecision cases with neural network\")\n",
    "plt.show()"
   ]
  },
  {
   "cell_type": "code",
   "execution_count": 531,
   "metadata": {
    "scrolled": false
   },
   "outputs": [
    {
     "data": {
      "image/png": "[encoded data removed]",
      "text/plain": [
       "<Figure size 1080x504 with 1 Axes>"
      ]
     },
     "metadata": {
      "needs_background": "light"
     },
     "output_type": "display_data"
    }
   ],
   "source": [
    "plot_hist([x[0] for x in SVM_predictions])\n",
    "\n",
    "plt.title(\"Indecision cases with SVM\")\n",
    "plt.show()"
   ]
  },
  {
   "cell_type": "code",
   "execution_count": 532,
   "metadata": {},
   "outputs": [
    {
     "data": {
      "image/png": "[encoded data removed]",
      "text/plain": [
       "<Figure size 1080x504 with 1 Axes>"
      ]
     },
     "metadata": {
      "needs_background": "light"
     },
     "output_type": "display_data"
    }
   ],
   "source": [
    "plt.figure(figsize=(15, 7))\n",
    "weights = np.ones_like([x[1] for x in interval])/float(len([x[1] for x in interval]))\n",
    "_, bins, patches = plt.hist([x[1] for x in interval], 10, color = \"r\", weights=weights)\n",
    "plt.xlim(0,1)\n",
    "plt.ylim(0,1)\n",
    "\n",
    "cm = plt.cm.get_cmap(\"seismic\")\n",
    "\n",
    "bin_centers = 0.5*(bins[:-1]+bins[1:])\n",
    "col = bin_centers - min(bin_centers)\n",
    "col /= max(col)\n",
    "\n",
    "for c, p in zip(col, patches):\n",
    "    plt.setp(p, \"facecolor\", cm(c))\n",
    "    \n",
    "plt.grid()\n",
    "radius = 0.15\n",
    "plt.title(\"Memberships with radius \" + str(radius))\n",
    "plt.axvline(x=0.4, color = \"k\")\n",
    "plt.show()"
   ]
  },
  {
   "cell_type": "code",
   "execution_count": 533,
   "metadata": {},
   "outputs": [
    {
     "data": {
      "image/png": "[encoded data removed]",
      "text/plain": [
       "<Figure size 1080x504 with 1 Axes>"
      ]
     },
     "metadata": {
      "needs_background": "light"
     },
     "output_type": "display_data"
    }
   ],
   "source": [
    "plt.figure(figsize=(15, 7))\n",
    "_, bins, patches = plt.hist([x[1] for x in interval], 10, color = \"r\")\n",
    "\n",
    "cm = plt.cm.get_cmap(\"seismic\")\n",
    "\n",
    "bin_centers = 0.5*(bins[:-1]+bins[1:])\n",
    "col = bin_centers - min(bin_centers)\n",
    "col /= max(col)\n",
    "\n",
    "for c, p in zip(col, patches):\n",
    "    plt.setp(p, \"facecolor\", cm(c))\n",
    "    \n",
    "plt.grid()\n",
    "radius = 0.15\n",
    "plt.title(\"Memberships with radius \" + str(radius))\n",
    "plt.axvline(x=0.4, color = \"k\")\n",
    "plt.show()"
   ]
  },
  {
   "cell_type": "code",
   "execution_count": 534,
   "metadata": {},
   "outputs": [
    {
     "name": "stdout",
     "output_type": "stream",
     "text": [
      "Outcome Label Prediction Membership\n"
     ]
    }
   ],
   "source": [
    "experiment_tree = pd.DataFrame(columns = [\"Outcome\", \"Label\", \"Prediction\", \"Membership\"])\n",
    "\n",
    "print(\"Outcome\", \"Label\", \"Prediction\", \"Membership\")\n",
    "\n",
    "for lab, pred, memb in zip(ground_truth_interval, [x[0] for x in tree_predictions], [x[1] for x in interval]):\n",
    "    if pred == 1:\n",
    "        if lab == pred:\n",
    "            experiment_tree = experiment_tree.append({\n",
    "                \"Outcome\": \"TP\", \"Label\": lab, \"Prediction\": pred, \"Membership\": memb\n",
    "            }, ignore_index=True)\n",
    "            print(\"TP\", \"\\t\", lab, \"\\t\", pred, \"\\t\", memb)\n",
    "        else:\n",
    "            experiment_tree = experiment_tree.append({\n",
    "                \"Outcome\": \"FP\", \"Label\": lab, \"Prediction\": pred, \"Membership\": memb\n",
    "            }, ignore_index=True)\n",
    "            print(\"FP\", \"\\t\", lab, \"\\t\", pred, \"\\t\", memb)\n",
    "    else:\n",
    "        if lab == pred:\n",
    "            experiment_tree = experiment_tree.append({\n",
    "                \"Outcome\": \"TN\", \"Label\": lab, \"Prediction\": pred, \"Membership\": memb\n",
    "            }, ignore_index=True)\n",
    "            print(\"TN\", \"\\t\", lab, \"\\t\", pred, \"\\t\", memb)\n",
    "        else:\n",
    "            experiment_tree = experiment_tree.append({\n",
    "                \"Outcome\": \"FN\", \"Label\": lab, \"Prediction\": pred, \"Membership\": memb\n",
    "            }, ignore_index=True)\n",
    "            print(\"FN\", \"\\t\", lab, \"\\t\", pred, \"\\t\", memb)"
   ]
  },
  {
   "cell_type": "code",
   "execution_count": 535,
   "metadata": {},
   "outputs": [
    {
     "name": "stdout",
     "output_type": "stream",
     "text": [
      "Outcome Label Prediction Membership\n"
     ]
    }
   ],
   "source": [
    "experiment_NN = pd.DataFrame(columns = [\"Outcome\", \"Label\", \"Prediction\", \"Membership\"])\n",
    "\n",
    "print(\"Outcome\", \"Label\", \"Prediction\", \"Membership\")\n",
    "\n",
    "for lab, pred, memb in zip(ground_truth_interval, [x[0] for x in NN_predictions], [x[1] for x in interval]):\n",
    "    if pred == 1:\n",
    "        if lab == pred:\n",
    "            experiment_NN = experiment_NN.append({\n",
    "                \"Outcome\": \"TP\", \"Label\": lab, \"Prediction\": pred, \"Membership\": memb\n",
    "            }, ignore_index=True)\n",
    "            print(\"TP\", \"\\t\", lab, \"\\t\", pred, \"\\t\", memb)\n",
    "        else:\n",
    "            experiment_NN = experiment_NN.append({\n",
    "                \"Outcome\": \"FP\", \"Label\": lab, \"Prediction\": pred, \"Membership\": memb\n",
    "            }, ignore_index=True)\n",
    "            print(\"FP\", \"\\t\", lab, \"\\t\", pred, \"\\t\", memb)\n",
    "    else:\n",
    "        if lab == pred:\n",
    "            experiment_NN = experiment_NN.append({\n",
    "                \"Outcome\": \"TN\", \"Label\": lab, \"Prediction\": pred, \"Membership\": memb\n",
    "            }, ignore_index=True)\n",
    "            print(\"TN\", \"\\t\", lab, \"\\t\", pred, \"\\t\", memb)\n",
    "        else:\n",
    "            experiment_NN = experiment_NN.append({\n",
    "                \"Outcome\": \"FN\", \"Label\": lab, \"Prediction\": pred, \"Membership\": memb\n",
    "            }, ignore_index=True)\n",
    "            print(\"FN\", \"\\t\", lab, \"\\t\", pred, \"\\t\", memb)"
   ]
  },
  {
   "cell_type": "code",
   "execution_count": 536,
   "metadata": {
    "scrolled": false
   },
   "outputs": [
    {
     "name": "stdout",
     "output_type": "stream",
     "text": [
      "Outcome Label Prediction Membership\n"
     ]
    }
   ],
   "source": [
    "experiment_SVM = pd.DataFrame(columns = [\"Outcome\", \"Label\", \"Prediction\", \"Membership\"])\n",
    "\n",
    "print(\"Outcome\", \"Label\", \"Prediction\", \"Membership\")\n",
    "\n",
    "for lab, pred, memb in zip(ground_truth_interval, [x[0] for x in SVM_predictions], [x[1] for x in interval]):\n",
    "    if pred == 1:\n",
    "        if lab == pred:\n",
    "            experiment_SVM = experiment_SVM.append({\n",
    "                \"Outcome\": \"TP\", \"Label\": lab, \"Prediction\": pred, \"Membership\": memb\n",
    "            }, ignore_index=True)\n",
    "            print(\"TP\", \"\\t\", lab, \"\\t\", pred, \"\\t\", memb)\n",
    "        else:\n",
    "            experiment_SVM = experiment_SVM.append({\n",
    "                \"Outcome\": \"FP\", \"Label\": lab, \"Prediction\": pred, \"Membership\": memb\n",
    "            }, ignore_index=True)\n",
    "            print(\"FP\", \"\\t\", lab, \"\\t\", pred, \"\\t\", memb)\n",
    "    else:\n",
    "        if lab == pred:\n",
    "            experiment_SVM = experiment_SVM.append({\n",
    "                \"Outcome\": \"TN\", \"Label\": lab, \"Prediction\": pred, \"Membership\": memb\n",
    "            }, ignore_index=True)\n",
    "            print(\"TN\", \"\\t\", lab, \"\\t\", pred, \"\\t\", memb)\n",
    "        else:\n",
    "            experiment_SVM = experiment_SVM.append({\n",
    "                \"Outcome\": \"FN\", \"Label\": lab, \"Prediction\": pred, \"Membership\": memb\n",
    "            }, ignore_index=True)\n",
    "            print(\"FN\", \"\\t\", lab, \"\\t\", pred, \"\\t\", memb)"
   ]
  },
  {
   "cell_type": "code",
   "execution_count": 537,
   "metadata": {},
   "outputs": [],
   "source": [
    "TP, FP, FN, TN = my_confusion_matrix(ground_truth_interval, [x[0] for x in tree_predictions])\n",
    "confusion_tree = pd.DataFrame([[TP, FP], [FN, TN]],\n",
    "             index=[\"Classified fake\", \"Classified not fake\"], \n",
    "             columns=[\"Actually fake\", \"Actually not fake\"])\n",
    "precision_tree = precision(TP, FP)\n",
    "recall_tree = recall(TP, FN)\n",
    "f1_tree = f_one(precision_tree, recall_tree)\n",
    "\n",
    "TP, FP, FN, TN = my_confusion_matrix(ground_truth_interval, [x[0] for x in NN_predictions])\n",
    "confusion_NN = pd.DataFrame([[TP, FP], [FN, TN]],\n",
    "             index=[\"Classified fake\", \"Classified not fake\"], \n",
    "             columns=[\"Actually fake\", \"Actually not fake\"])\n",
    "precision_NN = precision(TP, FP)\n",
    "recall_NN = recall(TP, FN)\n",
    "f1_NN = f_one(precision_NN, recall_NN)\n",
    "\n",
    "TP, FP, FN, TN = my_confusion_matrix(ground_truth_interval, [x[0] for x in SVM_predictions])\n",
    "confusion_SVM = pd.DataFrame([[TP, FP], [FN, TN]],\n",
    "             index=[\"Classified fake\", \"Classified not fake\"], \n",
    "             columns=[\"Actually fake\", \"Actually not fake\"])\n",
    "precision_SVM = precision(TP, FP)\n",
    "recall_SVM = recall(TP, FN)\n",
    "f1_SVM = f_one(precision_SVM, recall_SVM)"
   ]
  },
  {
   "cell_type": "code",
   "execution_count": 538,
   "metadata": {},
   "outputs": [
    {
     "data": {
      "text/html": [
       "<div>\n",
       "<style scoped>\n",
       "    .dataframe tbody tr th:only-of-type {\n",
       "        vertical-align: middle;\n",
       "    }\n",
       "\n",
       "    .dataframe tbody tr th {\n",
       "        vertical-align: top;\n",
       "    }\n",
       "\n",
       "    .dataframe thead th {\n",
       "        text-align: right;\n",
       "    }\n",
       "</style>\n",
       "<table border=\"1\" class=\"dataframe\">\n",
       "  <thead>\n",
       "    <tr style=\"text-align: right;\">\n",
       "      <th></th>\n",
       "      <th>precision</th>\n",
       "      <th>recall</th>\n",
       "      <th>f1</th>\n",
       "    </tr>\n",
       "  </thead>\n",
       "  <tbody>\n",
       "    <tr>\n",
       "      <th>tree classifier</th>\n",
       "      <td>0.0</td>\n",
       "      <td>0.0</td>\n",
       "      <td>0.0</td>\n",
       "    </tr>\n",
       "    <tr>\n",
       "      <th>neural network</th>\n",
       "      <td>0.0</td>\n",
       "      <td>0.0</td>\n",
       "      <td>0.0</td>\n",
       "    </tr>\n",
       "    <tr>\n",
       "      <th>svm</th>\n",
       "      <td>0.0</td>\n",
       "      <td>0.0</td>\n",
       "      <td>0.0</td>\n",
       "    </tr>\n",
       "  </tbody>\n",
       "</table>\n",
       "</div>"
      ],
      "text/plain": [
       "                 precision  recall   f1\n",
       "tree classifier        0.0     0.0  0.0\n",
       "neural network         0.0     0.0  0.0\n",
       "svm                    0.0     0.0  0.0"
      ]
     },
     "execution_count": 538,
     "metadata": {},
     "output_type": "execute_result"
    }
   ],
   "source": [
    "pd.DataFrame([[precision_tree, recall_tree, f1_tree],\n",
    "              [precision_NN, recall_NN, f1_NN], \n",
    "              [precision_SVM, recall_SVM, f1_SVM]],\n",
    "              index=[\"tree classifier\", \"neural network\", \"svm\"], \n",
    "              columns=[\"precision\", \"recall\", \"f1\"])"
   ]
  },
  {
   "cell_type": "code",
   "execution_count": 539,
   "metadata": {},
   "outputs": [],
   "source": [
    "PATH_TEXTS = \"datasets/profner/Fake.csv\"\n",
    "data_fake = pd.read_csv(PATH_TEXTS)\n",
    "\n",
    "PATH_TEXTS = \"datasets/profner/True.csv\"\n",
    "data_true = pd.read_csv(PATH_TEXTS)"
   ]
  },
  {
   "cell_type": "code",
   "execution_count": 540,
   "metadata": {},
   "outputs": [],
   "source": [
    "def retrieve_text(data):\n",
    "    for i in data_interval.iterrows():\n",
    "        index = i[1][\"index\"]\n",
    "        text = i[1][\"text\"]\n",
    "        label = i[1][\"label\"]\n",
    "\n",
    "        if label == 1:\n",
    "            corpus = data_fake.iloc[index][\"text\"]\n",
    "            print(\"News number \" + str(index) + \" is fake\")\n",
    "        else:\n",
    "            corpus = data_true.iloc[index][\"text\"]\n",
    "            print(\"News number \" + str(index) + \" is true\")\n",
    "\n",
    "        print(corpus) \n",
    "        print(\"\")"
   ]
  },
  {
   "cell_type": "code",
   "execution_count": 541,
   "metadata": {},
   "outputs": [],
   "source": [
    "retrieve_text(data_interval)  "
   ]
  },
  {
   "cell_type": "code",
   "execution_count": 564,
   "metadata": {},
   "outputs": [
    {
     "data": {
      "text/plain": [
       "array([0., 0., 0., 0., 0., 0., 0., 0., 0., 1., 1., 0., 1., 0., 0., 1., 1.,\n",
       "       0., 0., 0., 0., 0., 0., 0., 1., 0., 1., 0., 0., 0., 0., 0., 0., 0.,\n",
       "       1., 0., 1., 0., 0., 0., 0., 0., 0., 1., 0., 0., 0., 0., 0., 0., 1.,\n",
       "       0., 1., 0., 0., 0., 1., 0., 0., 0., 0., 0., 1., 1., 0., 0., 0., 0.,\n",
       "       0., 0., 0., 0., 0., 0., 0., 0., 0., 0., 0., 0., 0., 1., 0., 0., 1.,\n",
       "       0., 0., 0., 0., 0., 0., 0., 0., 0., 0., 1., 0., 0., 0., 0., 0., 0.,\n",
       "       0., 1., 0., 0., 0., 1., 0., 0., 0., 0., 0., 0., 0., 0., 1., 0., 0.,\n",
       "       0., 0., 1., 1., 1., 0., 0., 0., 0., 1., 1., 0., 0., 0., 0., 0., 1.,\n",
       "       1., 0., 0., 0., 0., 0., 0., 0., 0., 0., 0., 0., 0., 0., 0., 1., 0.,\n",
       "       0., 0., 0., 0., 1., 1., 0., 0., 0., 0., 0., 1., 0., 1., 0., 0., 1.,\n",
       "       0., 0., 0., 0., 0., 0., 0., 0., 0., 0., 0., 0., 0., 0., 0., 0., 0.,\n",
       "       0., 0., 0., 0., 0., 0., 1., 0., 0., 1., 0., 0., 0., 0., 0., 0., 1.,\n",
       "       0., 1., 0., 0., 0., 0., 0., 0., 1., 1., 0., 0., 0., 1., 0., 0., 0.,\n",
       "       0., 0., 1., 1., 0., 0., 0., 1., 1., 1., 0., 0., 0., 1., 0., 0., 0.,\n",
       "       0., 0., 0., 1., 1., 1., 0., 1., 0., 1., 0., 0., 0., 0., 1., 0., 0.,\n",
       "       0., 0., 0., 0., 0., 1., 0., 0., 0., 1., 0., 0., 0., 0., 0., 0., 0.,\n",
       "       0., 1., 1., 1., 0., 1., 0., 0., 0., 0., 0., 0., 0., 0., 0., 0., 0.,\n",
       "       0., 0., 1., 1., 0., 0., 1., 1., 0., 0., 1., 0., 0., 0., 0., 1., 1.,\n",
       "       0., 1., 1., 0., 0., 0., 1., 0., 0., 0., 0., 0., 1., 1., 0., 1., 0.,\n",
       "       1., 0., 0., 0., 1., 0., 0., 0., 1., 1., 0., 0., 0., 0., 0., 0., 0.,\n",
       "       0., 0., 0., 1., 1., 0., 0., 0., 1., 0., 1., 1., 0., 0., 0., 0., 0.,\n",
       "       1., 1., 0., 1., 1., 0., 1., 1., 0., 0., 0., 0., 0., 0., 0., 0., 0.,\n",
       "       0., 0., 0., 0., 0., 0., 1., 1., 0., 0., 1., 0., 0., 1., 1., 0., 0.,\n",
       "       1., 0., 1., 0., 1., 0., 0., 1., 0.])"
      ]
     },
     "execution_count": 564,
     "metadata": {},
     "output_type": "execute_result"
    }
   ],
   "source": [
    "models.best_models[0].predict(models.folds['x train 0'])"
   ]
  },
  {
   "cell_type": "code",
   "execution_count": 565,
   "metadata": {},
   "outputs": [
    {
     "data": {
      "text/plain": [
       "array([0, 0, 0, 0, 0, 0, 0, 0, 0, 1, 1, 0, 1, 0, 0, 1, 1, 0, 0, 0, 0, 0,\n",
       "       0, 0, 1, 0, 1, 0, 0, 0, 0, 0, 0, 0, 1, 0, 1, 0, 0, 0, 0, 0, 0, 1,\n",
       "       0, 0, 0, 0, 0, 0, 1, 0, 1, 0, 0, 0, 1, 0, 0, 0, 0, 0, 1, 1, 0, 0,\n",
       "       0, 0, 0, 0, 0, 0, 0, 0, 0, 0, 0, 0, 0, 0, 0, 1, 0, 0, 1, 0, 0, 0,\n",
       "       0, 0, 0, 0, 0, 0, 0, 1, 0, 0, 0, 0, 0, 0, 0, 1, 0, 0, 0, 1, 0, 0,\n",
       "       0, 0, 0, 0, 0, 0, 1, 0, 0, 0, 0, 1, 1, 1, 0, 0, 0, 0, 1, 1, 0, 0,\n",
       "       0, 0, 0, 1, 1, 0, 0, 0, 0, 0, 0, 0, 0, 0, 0, 0, 0, 0, 0, 1, 0, 0,\n",
       "       0, 0, 0, 1, 1, 0, 0, 0, 0, 0, 1, 0, 1, 0, 0, 1, 0, 0, 0, 0, 0, 0,\n",
       "       0, 0, 0, 0, 0, 0, 0, 0, 0, 0, 0, 0, 0, 0, 0, 0, 0, 1, 0, 0, 1, 0,\n",
       "       0, 0, 0, 0, 0, 1, 0, 1, 0, 0, 0, 0, 0, 0, 1, 1, 0, 0, 0, 1, 0, 0,\n",
       "       0, 0, 0, 1, 1, 0, 0, 0, 1, 1, 1, 0, 0, 0, 1, 0, 0, 0, 0, 0, 0, 1,\n",
       "       1, 1, 0, 1, 0, 1, 0, 0, 0, 0, 1, 0, 0, 0, 0, 0, 0, 0, 1, 0, 0, 0,\n",
       "       1, 0, 0, 0, 0, 0, 0, 0, 0, 1, 1, 1, 0, 1, 0, 0, 0, 0, 0, 0, 0, 0,\n",
       "       0, 0, 0, 0, 0, 1, 1, 0, 0, 1, 1, 0, 0, 1, 0, 0, 0, 0, 1, 1, 0, 1,\n",
       "       1, 0, 0, 0, 1, 0, 0, 0, 0, 0, 1, 1, 0, 1, 0, 1, 0, 0, 0, 1, 0, 0,\n",
       "       0, 1, 1, 0, 0, 0, 0, 0, 0, 0, 0, 0, 0, 1, 1, 0, 0, 0, 1, 0, 1, 1,\n",
       "       0, 0, 0, 0, 0, 1, 1, 0, 1, 1, 0, 1, 1, 0, 0, 0, 0, 0, 0, 0, 0, 0,\n",
       "       0, 0, 0, 0, 0, 0, 1, 1, 0, 0, 1, 0, 0, 1, 1, 0, 0, 1, 0, 1, 0, 1,\n",
       "       0, 0, 1, 0])"
      ]
     },
     "execution_count": 565,
     "metadata": {},
     "output_type": "execute_result"
    }
   ],
   "source": [
    "models.folds['y train 0']"
   ]
  },
  {
   "cell_type": "code",
   "execution_count": 573,
   "metadata": {},
   "outputs": [
    {
     "name": "stdout",
     "output_type": "stream",
     "text": [
      "0.0 0.0\n",
      "0.0 0.0\n",
      "0.0 0.0\n",
      "0.0 0.0\n",
      "0.0 0.0\n"
     ]
    }
   ],
   "source": [
    "for i in range(0,5):\n",
    "    TP, FP, FN, TN = my_confusion_matrix(models.folds['y test '+str(i)], models.best_models[i].predict(models.folds['x test '+str(i)]))\n",
    "    print(precision(TP, FP), recall(TP, FN))"
   ]
  },
  {
   "cell_type": "code",
   "execution_count": 572,
   "metadata": {},
   "outputs": [
    {
     "name": "stdout",
     "output_type": "stream",
     "text": [
      "1.0 1.0\n",
      "1.0 1.0\n",
      "1.0 1.0\n",
      "1.0 1.0\n",
      "1.0 1.0\n"
     ]
    }
   ],
   "source": [
    "for i in range(0,5):\n",
    "    TP, FP, FN, TN = my_confusion_matrix(models.folds['y test '+str(i)], models.all_labels[i])\n",
    "    print(precision(TP, FP), recall(TP, FN))"
   ]
  },
  {
   "cell_type": "code",
   "execution_count": 570,
   "metadata": {},
   "outputs": [
    {
     "data": {
      "text/plain": [
       "{0: array([0., 0., 0., 0., 0., 0., 0., 0., 0., 0., 0., 0., 0., 0., 0., 0., 0.,\n",
       "        0., 0., 0., 0., 0., 0., 0., 0., 0., 0., 0., 0., 0., 0., 0., 0., 0.,\n",
       "        0., 0., 0., 0., 0., 0., 0., 0., 0., 0., 0., 0., 0., 0., 0., 0., 0.,\n",
       "        0., 0., 0., 0., 0., 0., 0., 0., 0., 0., 0., 0., 0., 0., 0., 0., 0.,\n",
       "        0., 0., 0., 0., 0., 0., 0., 0., 0., 0., 0., 0., 0., 0., 0., 0., 0.,\n",
       "        0., 0., 0., 0., 0., 0., 0., 0., 0., 0., 0., 0., 0., 0., 0.]),\n",
       " 1: array([0., 0., 0., 0., 0., 0., 0., 0., 0., 0., 0., 0., 0., 0., 0., 0., 0.,\n",
       "        0., 0., 0., 0., 0., 0., 0., 0., 0., 0., 0., 0., 0., 0., 0., 0., 0.,\n",
       "        0., 0., 0., 0., 0., 0., 0., 0., 0., 0., 0., 0., 0., 0., 0., 0., 0.,\n",
       "        0., 0., 0., 0., 0., 0., 0., 0., 0., 0., 0., 0., 0., 0., 0., 0., 0.,\n",
       "        0., 0., 0., 0., 0., 0., 0., 0., 0., 0., 0., 0., 0., 0., 0., 0., 0.,\n",
       "        0., 0., 0., 0., 0., 0., 0., 0., 0., 0., 0., 0., 0., 0., 0.]),\n",
       " 2: array([0., 0., 0., 0., 0., 0., 0., 0., 0., 0., 0., 0., 0., 0., 0., 0., 0.,\n",
       "        0., 0., 0., 0., 0., 0., 0., 0., 0., 0., 0., 0., 0., 0., 0., 0., 0.,\n",
       "        0., 0., 0., 0., 0., 0., 0., 0., 0., 0., 0., 0., 0., 0., 0., 0., 0.,\n",
       "        0., 0., 0., 0., 0., 0., 0., 0., 0., 0., 0., 0., 0., 0., 0., 0., 0.,\n",
       "        0., 0., 0., 0., 0., 0., 0., 0., 0., 0., 0., 0., 0., 0., 0., 0., 0.,\n",
       "        0., 0., 0., 0., 0., 0., 0., 0., 0., 0., 0., 0., 0., 0., 0.]),\n",
       " 3: array([0., 0., 0., 0., 0., 0., 0., 0., 0., 0., 0., 0., 0., 0., 0., 0., 0.,\n",
       "        0., 0., 0., 0., 0., 0., 0., 0., 0., 0., 0., 0., 0., 0., 0., 0., 0.,\n",
       "        0., 0., 0., 0., 0., 0., 0., 0., 0., 0., 0., 0., 0., 0., 0., 0., 0.,\n",
       "        0., 0., 0., 0., 0., 0., 0., 0., 0., 0., 0., 0., 0., 0., 0., 0., 0.,\n",
       "        0., 0., 0., 0., 0., 0., 0., 0., 0., 0., 0., 0., 0., 0., 0., 0., 0.,\n",
       "        0., 0., 0., 0., 0., 0., 0., 0., 0., 0., 0., 0., 0., 0., 0.]),\n",
       " 4: array([0., 0., 0., 0., 0., 0., 0., 0., 0., 0., 0., 0., 0., 0., 0., 0., 0.,\n",
       "        0., 0., 0., 0., 0., 0., 0., 0., 0., 0., 0., 0., 0., 0., 0., 0., 0.,\n",
       "        0., 0., 0., 0., 0., 0., 0., 0., 0., 0., 0., 0., 0., 0., 0., 0., 0.,\n",
       "        0., 0., 0., 0., 0., 0., 0., 0., 0., 0., 0., 0., 0., 0., 0., 0., 0.,\n",
       "        0., 0., 0., 0., 0., 0., 0., 0., 0., 0., 0., 0., 0., 0., 0., 0., 0.,\n",
       "        0., 0., 0., 0., 0., 0., 0., 0., 0., 0., 0., 0., 0., 0., 0.])}"
      ]
     },
     "execution_count": 570,
     "metadata": {},
     "output_type": "execute_result"
    }
   ],
   "source": [
    "models.all_memberships"
   ]
  },
  {
   "cell_type": "code",
   "execution_count": null,
   "metadata": {},
   "outputs": [],
   "source": []
  }
 ],
 "metadata": {
  "kernelspec": {
   "display_name": "Python 3",
   "language": "python",
   "name": "python3"
  },
  "language_info": {
   "codemirror_mode": {
    "name": "ipython",
    "version": 3
   },
   "file_extension": ".py",
   "mimetype": "text/x-python",
   "name": "python",
   "nbconvert_exporter": "python",
   "pygments_lexer": "ipython3",
   "version": "3.7.9"
  }
 },
 "nbformat": 4,
 "nbformat_minor": 4
}
